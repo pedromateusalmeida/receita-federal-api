{
 "cells": [
  {
   "cell_type": "code",
   "execution_count": 21,
   "id": "2bf304dd-dde4-4248-a55b-b3f15a78f8cc",
   "metadata": {
    "tags": []
   },
   "outputs": [
    {
     "name": "stdout",
     "output_type": "stream",
     "text": [
      "C:\\Users\\pedro\\Spark\\spark-3.5.0-bin-hadoop3\n",
      "C:\\Users\\pedro\\hadoop\\bin\n",
      "C:\\Program Files\\Java\\jdk1.8.0_202\n"
     ]
    }
   ],
   "source": [
    "import os\n",
    "import sys\n",
    "print(os.environ.get(\"SPARK_HOME\"))\n",
    "print(os.environ.get(\"HADOOP_HOME\"))\n",
    "print(os.environ.get(\"JAVA_HOME\"))\n",
    "os.environ[\"PYARROW_IGNORE_TIMEZONE\"] = \"1\""
   ]
  },
  {
   "cell_type": "code",
   "execution_count": 2,
   "id": "4f13db50-7afa-43f7-a5a8-1c3626f49683",
   "metadata": {
    "tags": []
   },
   "outputs": [],
   "source": [
    "#from ReceitaCNPJApi import ReceitaCNPJApi\n",
    "#from ReceitaLT import ReceitaLT\n",
    "from pyspark.sql import SparkSession\n",
    "import findspark\n",
    "findspark.init()"
   ]
  },
  {
   "cell_type": "code",
   "execution_count": 3,
   "id": "1383376a-0673-42f3-8714-392d48d597a8",
   "metadata": {
    "tags": []
   },
   "outputs": [],
   "source": [
    "spark = (SparkSession.builder\n",
    "    .master(\"local[*]\")  \n",
    "    .config(\"spark.driver.cores\", \"3\") \n",
    "    .config(\"spark.driver.memory\", \"15g\") \n",
    "    .config(\"spark.default.parallelism\", \"50\")\n",
    "    .config(\"spark.sql.shuffle.partitions\", \"50\") \n",
    "    .config(\"spark.executor.cores\", \"2\")  \n",
    "    .config(\"spark.executor.instances\", \"4\") \n",
    "    .config(\"spark.executor.memory\", \"6g\") \n",
    "    .config(\"spark.memory.fraction\", \"0.8\") \n",
    "    .config(\"spark.memory.storageFraction\", \"0.5\")\n",
    "    .config(\"spark.memory.offHeap.enabled\", \"true\") \n",
    "    .config(\"spark.memory.offHeap.size\", \"3g\")  \n",
    "    .config(\"spark.driver.maxResultSize\", \"10g\")\n",
    "    .config(\"spark.executor.memoryOverhead\", \"2g\")  \n",
    "    .config('spark.sql.repl.eagerEval.enabled', True)\n",
    "    .config(\"spark.sql.repl.eagerEval.maxNumRows\", 10)\n",
    "    .appName('dataset_cnpj')\n",
    "    .getOrCreate())"
   ]
  },
  {
   "cell_type": "code",
   "execution_count": 22,
   "id": "f2785219-48dc-4ac2-985a-7092036a0f93",
   "metadata": {
    "tags": []
   },
   "outputs": [],
   "source": []
  },
  {
   "cell_type": "code",
   "execution_count": 5,
   "id": "22733aab-ab7b-47d3-b2a6-c95570d285c8",
   "metadata": {
    "tags": []
   },
   "outputs": [],
   "source": [
    "from functools import reduce\n",
    "import os\n",
    "import chardet\n",
    "import logging\n",
    "import glob\n",
    "import secrets\n",
    "from pyspark.sql import SparkSession\n",
    "from pyspark.sql.types import StructType, StructField, StringType, IntegerType, FloatType\n",
    "from pyspark.sql.functions import regexp_replace, when,length,to_date,upper,lower,col,split,explode,coalesce,concat_ws,concat,lit,broadcast,regexp_extract,month,year,to_date\n",
    "from pyspark.sql.functions import broadcast,expr,udf\n",
    "from geopy.geocoders import Nominatim\n",
    "from geopy.extra.rate_limiter import RateLimiter\n"
   ]
  },
  {
   "cell_type": "code",
   "execution_count": 189,
   "id": "94ef0dfc-5bd6-4f3c-9b96-48704c9accfd",
   "metadata": {
    "tags": []
   },
   "outputs": [
    {
     "data": {
      "text/html": [
       "        <script type=\"text/javascript\">\n",
       "        window.PlotlyConfig = {MathJaxConfig: 'local'};\n",
       "        if (window.MathJax && window.MathJax.Hub && window.MathJax.Hub.Config) {window.MathJax.Hub.Config({SVG: {font: \"STIX-Web\"}});}\n",
       "        if (typeof require !== 'undefined') {\n",
       "        require.undef(\"plotly\");\n",
       "        requirejs.config({\n",
       "            paths: {\n",
       "                'plotly': ['https://cdn.plot.ly/plotly-2.20.0.min']\n",
       "            }\n",
       "        });\n",
       "        require(['plotly'], function(Plotly) {\n",
       "            window._Plotly = Plotly;\n",
       "        });\n",
       "        }\n",
       "        </script>\n",
       "        "
      ]
     },
     "metadata": {},
     "output_type": "display_data"
    }
   ],
   "source": [
    "import pyspark\n",
    "from pyspark.sql import SparkSession\n",
    "\n",
    "from pyspark.sql.types import *\n",
    "from pyspark.sql.functions import lower, upper,row_number,isnan, when, count, col, coalesce, broadcast, regexp_replace, regexp_extract, lit\n",
    "from pyspark.sql import functions as F, Window, Row\n",
    "from pyspark.sql.functions import *\n",
    "#from functools import reduce\n",
    "\n",
    "#Pyspark\n",
    "import py4j\n",
    "from pyspark import SparkContext,SQLContext,SparkConf,StorageLevel\n",
    "\n",
    "## Pacotes para configurar sessão no spark\n",
    "from pyspark.sql import SparkSession\n",
    "from pyspark.conf import SparkConf\n",
    "                            \n",
    "## Pacote para localizar o path spark \n",
    "import findspark\n",
    "\n",
    "# Pacote de geração de gráficos\n",
    "import seaborn as sns\n",
    "import mpld3\n",
    "import matplotlib.pyplot as plt\n",
    "import missingno as msno #Pacote para ver dados missing\n",
    "import plotly.express as px\n",
    "import plotly.offline as pyoff\n",
    "import plotly.graph_objs as go\n",
    "pyoff.init_notebook_mode(connected=True)\n",
    "import chart_studio\n",
    "import chart_studio.plotly as py\n",
    "import chart_studio.tools as tls\n",
    "from plotly.subplots import make_subplots\n",
    "import plotly.graph_objects as go"
   ]
  },
  {
   "cell_type": "markdown",
   "id": "d1011c20-7326-40f2-9ec0-359155d41b8b",
   "metadata": {},
   "source": [
    "# Tratamento Telefone"
   ]
  },
  {
   "cell_type": "code",
   "execution_count": 213,
   "id": "224eea22-7237-412a-8f17-62e7cbe6d55e",
   "metadata": {
    "tags": []
   },
   "outputs": [],
   "source": [
    "df = spark.read.parquet('C:/Users/pedro/Documents/Curso de pos graduação de EST/DADOS_CNPJ/df_final/')\n",
    "dfv_cel = spark.read.option(\"header\", \"true\").csv('C:/Users/pedro/Documents/Curso de pos graduação de EST/DADOS_CNPJ/DDD_OPERADORA_FAIXA_UF.csv')"
   ]
  },
  {
   "cell_type": "code",
   "execution_count": 244,
   "id": "c1b37b85-2e6b-4084-86db-4760305bcd97",
   "metadata": {
    "tags": []
   },
   "outputs": [
    {
     "data": {
      "text/html": [
       "<table border='1'>\n",
       "<tr><th>DDD</th><th>OPERADORA</th><th>faixa</th><th>UF</th><th>CIDADES_REGIOES_PRINCIPAIS</th></tr>\n",
       "<tr><td>11</td><td>aeiou</td><td>97922</td><td>SP</td><td>Regi&atilde;o Metropolit...</td></tr>\n",
       "<tr><td>11</td><td>america_net</td><td>93500</td><td>SP</td><td>Regi&atilde;o Metropolit...</td></tr>\n",
       "<tr><td>11</td><td>claro</td><td>91312</td><td>SP</td><td>Regi&atilde;o Metropolit...</td></tr>\n",
       "<tr><td>11</td><td>claro</td><td>91317</td><td>SP</td><td>Regi&atilde;o Metropolit...</td></tr>\n",
       "<tr><td>11</td><td>claro</td><td>91323</td><td>SP</td><td>Regi&atilde;o Metropolit...</td></tr>\n",
       "<tr><td>11</td><td>claro</td><td>91346</td><td>SP</td><td>Regi&atilde;o Metropolit...</td></tr>\n",
       "<tr><td>11</td><td>claro</td><td>91355</td><td>SP</td><td>Regi&atilde;o Metropolit...</td></tr>\n",
       "<tr><td>11</td><td>claro</td><td>91357</td><td>SP</td><td>Regi&atilde;o Metropolit...</td></tr>\n",
       "<tr><td>11</td><td>claro</td><td>91363</td><td>SP</td><td>Regi&atilde;o Metropolit...</td></tr>\n",
       "<tr><td>11</td><td>claro</td><td>91365</td><td>SP</td><td>Regi&atilde;o Metropolit...</td></tr>\n",
       "</table>\n",
       "only showing top 10 rows\n"
      ],
      "text/plain": [
       "+---+-----------+-----+---+--------------------------+\n",
       "|DDD|  OPERADORA|faixa| UF|CIDADES_REGIOES_PRINCIPAIS|\n",
       "+---+-----------+-----+---+--------------------------+\n",
       "| 11|      aeiou|97922| SP|      Região Metropolit...|\n",
       "| 11|america_net|93500| SP|      Região Metropolit...|\n",
       "| 11|      claro|91312| SP|      Região Metropolit...|\n",
       "| 11|      claro|91317| SP|      Região Metropolit...|\n",
       "| 11|      claro|91323| SP|      Região Metropolit...|\n",
       "| 11|      claro|91346| SP|      Região Metropolit...|\n",
       "| 11|      claro|91355| SP|      Região Metropolit...|\n",
       "| 11|      claro|91357| SP|      Região Metropolit...|\n",
       "| 11|      claro|91363| SP|      Região Metropolit...|\n",
       "| 11|      claro|91365| SP|      Região Metropolit...|\n",
       "+---+-----------+-----+---+--------------------------+\n",
       "only showing top 10 rows"
      ]
     },
     "execution_count": 244,
     "metadata": {},
     "output_type": "execute_result"
    }
   ],
   "source": [
    "dfv_cel.sample(0.20)"
   ]
  },
  {
   "cell_type": "code",
   "execution_count": 214,
   "id": "43c963f4-0505-4986-be04-7bfe9618aecf",
   "metadata": {
    "tags": []
   },
   "outputs": [],
   "source": [
    "df_tel = df.select('CPF_CRIPTOGRAFADO','NOME_EMPRESA','UF','DDD1','TEL1','DT_SIT_CADASTRAL','ano_sit_cadastral','ano_cadastro')\n",
    "df_tel = df_tel.filter(col('TEL1').isNotNull())"
   ]
  },
  {
   "cell_type": "code",
   "execution_count": 215,
   "id": "564de20e-b320-4f7c-b4c5-e08a132ff969",
   "metadata": {
    "tags": []
   },
   "outputs": [],
   "source": [
    "df_tel = df_tel.withColumn(\"clean_tel1\", regexp_replace(\"TEL1\", \"[^0-9]\", \"\"))\n",
    "df_tel = df_tel.withColumn(\"clean_ddd1\", regexp_replace(\"DDD1\", \"[^0-9]\", \"\"))\n",
    "df_tel = df_tel.withColumn(\"len_tel1\", length(\"clean_tel1\"))\n",
    "df_tel = df_tel.withColumn(\"len_ddd1\", length(\"clean_ddd1\"))\n",
    "df_tel = df_tel.filter((col('len_ddd1') == 2) & (col('len_tel1') == 8))\n",
    "df_tel = df_tel.withColumn(\"numero_1_tel1\", substring(col(\"clean_tel1\"), 1, 1))\n",
    "df_tel = df_tel.withColumn(\"numero_4_tel1\", substring(col(\"clean_tel1\"), 1, 4))"
   ]
  },
  {
   "cell_type": "code",
   "execution_count": 216,
   "id": "d819ae8c-8e2f-4da3-b796-3d92a7a3c948",
   "metadata": {
    "tags": []
   },
   "outputs": [],
   "source": [
    "# Criando a coluna TIPO_TELEFONE com regras condicionais\n",
    "df_tel = df_tel.withColumn(\"TIPO_TELEFONE\", \n",
    "    when((col(\"clean_ddd1\") != \"11\") & (col(\"numero_1_tel1\").isin([\"2\", \"3\", \"4\", \"5\"])), \"TELEFONE FIXO\")\n",
    "    .when(col(\"numero_1_tel1\").isin([\"6\", \"7\", \"8\", \"9\"]), \"TELEFONE CELULAR\")\n",
    "    .when((col(\"clean_ddd1\") == \"11\") & (col(\"numero_1_tel1\").isin([\"2\", \"3\", \"4\"])), \"TELEFONE FIXO\")\n",
    "    .otherwise(\"VALIDACAO_ESPECIAL\"))"
   ]
  },
  {
   "cell_type": "code",
   "execution_count": null,
   "id": "1d29ceff-41be-4b16-9243-533b721012ca",
   "metadata": {
    "tags": []
   },
   "outputs": [],
   "source": [
    "# Pacotes básicos\n",
    "import pandas as pd\n",
    "import numpy as np\n",
    "pd.set_option('display.max_columns', None)\n",
    "\n",
    "# Regex\n",
    "import re\n",
    "\n",
    "dfv = pd.DataFrame()\n",
    "dfv = dfv.append(pd.DataFrame(data= {'ddd':11,'operadora':'oi','faixa': pd.Series(np.arange(5700,5768 )),'uf':'SP'}))\n",
    "dfv = dfv.append(pd.DataFrame(data= {'ddd':11,'operadora':'tim','faixa': pd.Series(np.arange(5787,5799 )),'uf':'SP'}))\n",
    "dfv = dfv.append(pd.DataFrame(data= {'ddd':11,'operadora':'tim','faixa': pd.Series(np.arange(5475,5499 )),'uf':'SP'}))\n",
    "dfv = dfv.append(pd.DataFrame(data= {'ddd':11,'operadora':'vivo','faixa': pd.Series(np.arange(5472,5474 )),'uf':'SP'}))\n",
    "dfv = dfv.append(pd.DataFrame(data= {'ddd':11,'operadora':'vivo','faixa': pd.Series(np.arange(5769,5786  )),'uf':'SP'}))\n",
    "dfv_spark = spark.createDataFrame(dfv)"
   ]
  },
  {
   "cell_type": "code",
   "execution_count": 218,
   "id": "460e367e-2bf7-4201-bea8-fa3969d34a38",
   "metadata": {
    "tags": []
   },
   "outputs": [],
   "source": [
    "df_tel_alias = df_tel.alias(\"tel\")\n",
    "dfv_spark_alias = dfv_spark.alias(\"dfv\")\n",
    "\n",
    "df_tel_joined = df_tel_alias.join(dfv_spark_alias, \n",
    "                                  (col(\"tel.clean_ddd1\") == col(\"dfv.ddd\")) & \n",
    "                                  (col(\"tel.numero_4_tel1\") == col(\"dfv.faixa\")), \n",
    "                                  'left')\n",
    "\n",
    "df_tel = df_tel_joined.withColumn(\"TIPO_TELEFONE_FINAL\", \n",
    "                                         when((col(\"tel.TIPO_TELEFONE\") == \"VALIDACAO_ESPECIAL\") & col(\"dfv.faixa\").isNull(), \"TELEFONE FIXO\")\n",
    "                                         .when((col(\"tel.TIPO_TELEFONE\") == \"VALIDACAO_ESPECIAL\") & col(\"dfv.faixa\").isNotNull(), \"TELEFONE CELULAR\")\n",
    "                                         .otherwise(col(\"tel.TIPO_TELEFONE\"))).drop(\"ddd\",\"faixa\",\"uf\",\"operadora\")"
   ]
  },
  {
   "cell_type": "code",
   "execution_count": 219,
   "id": "509976ad-a1f2-4d6d-8add-841586613475",
   "metadata": {
    "tags": []
   },
   "outputs": [],
   "source": [
    "df_tel = df_tel.withColumn(\"cel_5_digitos\", \n",
    "                           when(col(\"TIPO_TELEFONE_FINAL\") == \"TELEFONE CELULAR\", \n",
    "                                concat(lit(\"9\"), col(\"numero_4_tel1\")))\n",
    "                           .otherwise(\"TELEFONE FIXO\"))"
   ]
  },
  {
   "cell_type": "code",
   "execution_count": 220,
   "id": "d7684e01-0c27-44bf-b42e-ce80da3cdad6",
   "metadata": {
    "tags": []
   },
   "outputs": [],
   "source": [
    "dfv_cel = dfv_cel.withColumn(\"faixa\", regexp_replace(\"faixa\", \"\\\\.0$\", \"\"))\n",
    "df_tel = df_tel.join(dfv_cel, ((df_tel.cel_5_digitos == dfv_cel.faixa) & (df_tel.DDD1 == dfv_cel.DDD)) , 'left')"
   ]
  },
  {
   "cell_type": "code",
   "execution_count": 221,
   "id": "4d48858e-2dfe-4c4d-967f-0622ce322090",
   "metadata": {
    "tags": []
   },
   "outputs": [],
   "source": [
    "df_tel_hig = df_tel.select(col(\"CPF_CRIPTOGRAFADO\"),\n",
    "                           col(\"clean_tel1\").alias(\"TEL1\"),\n",
    "                           col(\"clean_ddd1\").alias(\"DDD1\"),\n",
    "                           col(\"TIPO_TELEFONE_FINAL\").alias(\"TIPO_TELEFONE\"),\n",
    "                           col(\"OPERADORA\"),\n",
    "                           col(\"faixa\").alias(\"FAIXA_CEL\"),\n",
    "                           col(\"UF\"),\n",
    "                           col(\"CIDADES_REGIOES_PRINCIPAIS\"))"
   ]
  },
  {
   "cell_type": "code",
   "execution_count": 222,
   "id": "3203c621-74cb-492e-a374-cb6a014c4bdc",
   "metadata": {
    "tags": []
   },
   "outputs": [],
   "source": [
    "# Lista das colunas a serem selecionadas\n",
    "colunas = [\n",
    "    \"CNPJ\", \"NOME_EMPRESA\", \"CAP_SOCIAL\", \"NM_PORTE\", \"NAT_JURICA\", \"ENTE_FEDERATIVO\", \n",
    "    \"NM_QUALIFICACAO\", \"CPF_CRIPTOGRAFADO\", \"CPF_LEN\", \"PROBABILIDADE_DE_SER_CPF\", \n",
    "    \"PRIMEIRO_NOME\", \"GRUPO_NOME\", \"PROBABILIDADE_CLASSIFICACAO\", \"CLASSIFICACAO\", \n",
    "    \"CNPJ_BASICO\", \"NM_MATRIZ_FILIAL\", \"NM_SIT_CADASTRAL\", \"DT_INICIO_ATIVIDADE\", \n",
    "    \"ENDERECO_COMPLETO\", \"TIPO_LOUGRADOURO\", \"CEP\", \"MUNICIPIO\", \n",
    "    \"DDD2\", \"TEL2\", \"valid_email\", \"PROVEDOR\", \"NM_MOTIVO\", \"CNAE\", \"NM_PAIS\", \n",
    "    \"ano_cadastro\", \"mes_cadastro\", \"DT_SIT_CADASTRAL\", \"ano_sit_cadastral\", \"mes_sit_cadastral\"]\n",
    "\n",
    "# Selecionando as colunas\n",
    "df_filter = df.select(*colunas).dropDuplicates()"
   ]
  },
  {
   "cell_type": "code",
   "execution_count": 223,
   "id": "e91c36a5-d881-4ba2-b062-b9f7edf533cb",
   "metadata": {
    "tags": []
   },
   "outputs": [],
   "source": [
    "df_join = df_filter.join(df_tel_hig, df_filter.CPF_CRIPTOGRAFADO == df_tel_hig.CPF_CRIPTOGRAFADO, \"left\").drop(df_tel_hig.CPF_CRIPTOGRAFADO).cache()"
   ]
  },
  {
   "cell_type": "code",
   "execution_count": 247,
   "id": "f6be1098-a0f0-4903-99f5-fc276bdd3778",
   "metadata": {
    "tags": []
   },
   "outputs": [],
   "source": [
    "df_join.write.mode(\"overwrite\").parquet('C:/Users/pedro/Documents/Curso de pos graduação de EST/DADOS_CNPJ/df_telefone_tratado/')"
   ]
  },
  {
   "cell_type": "code",
   "execution_count": null,
   "id": "154b650d-3462-4572-b4db-7ef799bb925e",
   "metadata": {},
   "outputs": [],
   "source": []
  },
  {
   "cell_type": "code",
   "execution_count": 246,
   "id": "7cb25e14-1a6a-4d6c-b88c-ecca8259ce66",
   "metadata": {
    "tags": []
   },
   "outputs": [
    {
     "data": {
      "text/html": [
       "<table border='1'>\n",
       "<tr><th>CNPJ</th><th>NOME_EMPRESA</th><th>CAP_SOCIAL</th><th>NM_PORTE</th><th>NAT_JURICA</th><th>ENTE_FEDERATIVO</th><th>NM_QUALIFICACAO</th><th>CPF_LEN</th><th>PROBABILIDADE_DE_SER_CPF</th><th>PRIMEIRO_NOME</th><th>GRUPO_NOME</th><th>PROBABILIDADE_CLASSIFICACAO</th><th>CLASSIFICACAO</th><th>CNPJ_BASICO</th><th>NM_MATRIZ_FILIAL</th><th>NM_SIT_CADASTRAL</th><th>DT_INICIO_ATIVIDADE</th><th>ENDERECO_COMPLETO</th><th>TIPO_LOUGRADOURO</th><th>CEP</th><th>MUNICIPIO</th><th>DDD2</th><th>TEL2</th><th>valid_email</th><th>PROVEDOR</th><th>NM_MOTIVO</th><th>CNAE</th><th>NM_PAIS</th><th>ano_cadastro</th><th>mes_cadastro</th><th>DT_SIT_CADASTRAL</th><th>ano_sit_cadastral</th><th>mes_sit_cadastral</th><th>CPF_CRIPTOGRAFADO</th><th>TEL1</th><th>DDD1</th><th>TIPO_TELEFONE</th><th>OPERADORA</th><th>FAIXA_CEL</th><th>UF</th><th>CIDADES_REGIOES_PRINCIPAIS</th></tr>\n",
       "<tr><td>25340623</td><td>GERALDO MIRANDA C...</td><td>125000,00</td><td>MICRO EMPRESA</td><td>Empresa Individua...</td><td>NULL</td><td>Titular Pessoa F&iacute;...</td><td>11</td><td>SIM</td><td>GERALDO</td><td>GERALDO</td><td>1.0</td><td>M</td><td>25340623</td><td>MATRIZ</td><td>BAIXADA</td><td>2016-08-02</td><td>RUA AMERICO TOTTI...</td><td>RUA</td><td>37131460</td><td>ALFENAS</td><td>NULL</td><td>NULL</td><td>maananias@uol.com.br</td><td>UOL</td><td>EXTINCAO POR ENCE...</td><td>Transporte rodovi...</td><td>NULL</td><td>2016</td><td>8</td><td>2021-04-22</td><td>2021</td><td>4</td><td>13UFXDVZ++GcMLM1Y...</td><td>99740745</td><td>35</td><td>TELEFONE CELULAR</td><td>vivo</td><td>99974</td><td>MG</td><td>Alfenas/Guaxup&eacute;/L...</td></tr>\n",
       "<tr><td>45736621</td><td>SISTILIO RIBEIRO ...</td><td>10000,00</td><td>MICRO EMPRESA</td><td>Empres&aacute;rio (Indiv...</td><td>NULL</td><td>Empres&aacute;rio</td><td>11</td><td>SIM</td><td>SISTILIO</td><td>NULL</td><td>NULL</td><td>NULL</td><td>45736621</td><td>MATRIZ</td><td>ATIVA</td><td>2022-03-22</td><td>10A AVENIDA OSTER...</td><td>10A AVENIDA</td><td>68380000</td><td>SAO FELIX DO XINGU</td><td>NULL</td><td>NULL</td><td>sistilioribeiroxi...</td><td>GMAIL</td><td>SEM MOTIVO</td><td>Servi&ccedil;os de malot...</td><td>NULL</td><td>2022</td><td>3</td><td>2022-03-22</td><td>2022</td><td>3</td><td>69vhDVxw0mUS4g2Vo...</td><td>99049089</td><td>94</td><td>TELEFONE CELULAR</td><td>tim</td><td>99904</td><td>PA</td><td>Marab&aacute;</td></tr>\n",
       "<tr><td>46424494</td><td>GIRLLES AMORIM DA...</td><td>60000,00</td><td>MICRO EMPRESA</td><td>Empres&aacute;rio (Indiv...</td><td>NULL</td><td>Empres&aacute;rio</td><td>11</td><td>SIM</td><td>GIRLLES</td><td>NULL</td><td>NULL</td><td>NULL</td><td>46424494</td><td>MATRIZ</td><td>ATIVA</td><td>2022-05-17</td><td>10A AVENIDA MUNIS...</td><td>10A AVENIDA</td><td>68488000</td><td>BREU BRANCO</td><td>NULL</td><td>NULL</td><td>girllesamorimdasi...</td><td>GMAIL</td><td>SEM MOTIVO</td><td>Com&eacute;rcio varejist...</td><td>NULL</td><td>2022</td><td>5</td><td>2022-05-17</td><td>2022</td><td>5</td><td>7iwaU0v0OQdJ3rZbe...</td><td>91699781</td><td>94</td><td>TELEFONE CELULAR</td><td>vivo</td><td>99169</td><td>PA</td><td>Marab&aacute;</td></tr>\n",
       "<tr><td>40533060</td><td>WALERY LEITE ESTE...</td><td>5000,00</td><td>MICRO EMPRESA</td><td>Empres&aacute;rio (Indiv...</td><td>NULL</td><td>Empres&aacute;rio</td><td>11</td><td>SIM</td><td>WALERY</td><td>NULL</td><td>NULL</td><td>NULL</td><td>40533060</td><td>MATRIZ</td><td>BAIXADA</td><td>2021-01-23</td><td>10A AVENIDA FRANC...</td><td>10A AVENIDA</td><td>65800000</td><td>BALSAS</td><td>NULL</td><td>NULL</td><td>waleryestevinho@g...</td><td>GMAIL</td><td>EXTINCAO POR ENCE...</td><td>Manuten&ccedil;&atilde;o e repa...</td><td>NULL</td><td>2021</td><td>1</td><td>2021-07-26</td><td>2021</td><td>7</td><td>7vwxpcSP93ONA0Pju...</td><td>88856673</td><td>21</td><td>TELEFONE CELULAR</td><td>tim</td><td>98885</td><td>RJ</td><td>Rio de Janeiro&nbsp;e&nbsp;...</td></tr>\n",
       "<tr><td>48652567</td><td>KEDLANY FERREIRA ...</td><td>10000,00</td><td>MICRO EMPRESA</td><td>Empres&aacute;rio (Indiv...</td><td>NULL</td><td>Empres&aacute;rio</td><td>11</td><td>SIM</td><td>KEDLANY</td><td>NULL</td><td>NULL</td><td>NULL</td><td>48652567</td><td>MATRIZ</td><td>ATIVA</td><td>2022-11-18</td><td>10A AVENIDA AV.DR...</td><td>10A AVENIDA</td><td>63380000</td><td>BARRO</td><td>NULL</td><td>NULL</td><td>dyegomuriel.engen...</td><td>GMAIL</td><td>SEM MOTIVO</td><td>Lanchonetes, casa...</td><td>NULL</td><td>2022</td><td>11</td><td>2022-11-18</td><td>2022</td><td>11</td><td>9sH5RrHdX6ZmvRime...</td><td>99680482</td><td>88</td><td>TELEFONE CELULAR</td><td>tim</td><td>99968</td><td>CE</td><td>Juazeiro do Norte...</td></tr>\n",
       "<tr><td>23752296</td><td>JOSE MARIA FERNAN...</td><td>80000,00</td><td>MICRO EMPRESA</td><td>Empresa Individua...</td><td>NULL</td><td>Titular Pessoa F&iacute;...</td><td>11</td><td>SIM</td><td>JOSE</td><td>JOSE</td><td>0.5957446808510638</td><td>M</td><td>23752296</td><td>MATRIZ</td><td>BAIXADA</td><td>2015-11-27</td><td>RUA IVO AMARAL, 1...</td><td>RUA</td><td>38880000</td><td>TIROS</td><td>34</td><td>88090622</td><td>celsinha@uol.com.br</td><td>UOL</td><td>EXTINCAO POR ENCE...</td><td>Transporte rodovi...</td><td>NULL</td><td>2015</td><td>11</td><td>2020-03-03</td><td>2020</td><td>3</td><td>9vhnsvDLbP52XPNSv...</td><td>38531006</td><td>34</td><td>TELEFONE FIXO</td><td>NULL</td><td>NULL</td><td>NULL</td><td>NULL</td></tr>\n",
       "<tr><td>40839077</td><td>EDIONY CARLOS DE ...</td><td>5000,00</td><td>MICRO EMPRESA</td><td>Empres&aacute;rio (Indiv...</td><td>NULL</td><td>Empres&aacute;rio</td><td>11</td><td>SIM</td><td>EDIONY</td><td>NULL</td><td>NULL</td><td>NULL</td><td>40839077</td><td>MATRIZ</td><td>ATIVA</td><td>2021-02-12</td><td>10A AVENIDA ARAGU...</td><td>10A AVENIDA</td><td>76720000</td><td>ARAGUAPAZ</td><td>NULL</td><td>NULL</td><td>contabilidadearag...</td><td>HOTMAIL</td><td>SEM MOTIVO</td><td>Lanchonetes, casa...</td><td>NULL</td><td>2021</td><td>2</td><td>2021-02-12</td><td>2021</td><td>2</td><td>KB3j9TQoLXh2jCBh1...</td><td>33801223</td><td>62</td><td>TELEFONE FIXO</td><td>NULL</td><td>NULL</td><td>NULL</td><td>NULL</td></tr>\n",
       "<tr><td>28121617</td><td>ALEKCA CALAZANS N...</td><td>5000,00</td><td>MICRO EMPRESA</td><td>Empres&aacute;rio (Indiv...</td><td>NULL</td><td>Empres&aacute;rio</td><td>11</td><td>SIM</td><td>ALEKCA</td><td>NULL</td><td>NULL</td><td>NULL</td><td>28121617</td><td>MATRIZ</td><td>ATIVA</td><td>2017-07-06</td><td>10A AVENIDA AUGUS...</td><td>10A AVENIDA</td><td>45860000</td><td>CANAVIEIRAS</td><td>NULL</td><td>NULL</td><td>alekcacalazans@ho...</td><td>HOTMAIL</td><td>SEM MOTIVO</td><td>Com&eacute;rcio varejist...</td><td>NULL</td><td>2017</td><td>7</td><td>2017-07-06</td><td>2017</td><td>7</td><td>LpHJqpvjFJOokbKG8...</td><td>99484204</td><td>73</td><td>TELEFONE CELULAR</td><td>tim</td><td>99948</td><td>BA</td><td>Eun&aacute;polis/Ilh&eacute;us/...</td></tr>\n",
       "<tr><td>34696412</td><td>ABIMAELY KEZIA MA...</td><td>150,00</td><td>MICRO EMPRESA</td><td>Empres&aacute;rio (Indiv...</td><td>NULL</td><td>Empres&aacute;rio</td><td>11</td><td>SIM</td><td>ABIMAELY</td><td>NULL</td><td>NULL</td><td>NULL</td><td>34696412</td><td>MATRIZ</td><td>BAIXADA</td><td>2019-08-29</td><td>1A RUA ELY ARAUJO...</td><td>1A RUA</td><td>59380000</td><td>CURRAIS NOVOS</td><td>NULL</td><td>NULL</td><td>paulovitor-25@liv...</td><td>LIVE</td><td>EXTINCAO POR ENCE...</td><td>Com&eacute;rcio varejist...</td><td>NULL</td><td>2019</td><td>8</td><td>2022-06-29</td><td>2022</td><td>6</td><td>M4x6mzG7gD1vcDMwK...</td><td>99902491</td><td>84</td><td>TELEFONE CELULAR</td><td>tim</td><td>99990</td><td>RN</td><td>todo o estado</td></tr>\n",
       "<tr><td>13800766</td><td>MARIA AZEVEDO DE ...</td><td>80000,00</td><td>DEMAIS</td><td>Empresa Individua...</td><td>NULL</td><td>Titular de Empres...</td><td>11</td><td>SIM</td><td>MARIA</td><td>MARIA</td><td>1.0</td><td>F</td><td>13800766</td><td>MATRIZ</td><td>BAIXADA</td><td>2008-07-21</td><td>RUA CELESTINA MAR...</td><td>RUA</td><td>35519000</td><td>NOVA SERRANA</td><td>NULL</td><td>NULL</td><td>direconnet@uai.co...</td><td>UAI</td><td>EXTINCAO POR ENCE...</td><td>Loteamento de im&oacute;...</td><td>NULL</td><td>2008</td><td>7</td><td>2020-09-01</td><td>2020</td><td>9</td><td>XC3lFXWSFq/xYKT4E...</td><td>32263101</td><td>37</td><td>TELEFONE FIXO</td><td>NULL</td><td>NULL</td><td>NULL</td><td>NULL</td></tr>\n",
       "</table>\n",
       "only showing top 10 rows\n"
      ],
      "text/plain": [
       "DataFrame[CNPJ: string, NOME_EMPRESA: string, CAP_SOCIAL: string, NM_PORTE: string, NAT_JURICA: string, ENTE_FEDERATIVO: string, NM_QUALIFICACAO: string, CPF_LEN: int, PROBABILIDADE_DE_SER_CPF: string, PRIMEIRO_NOME: string, GRUPO_NOME: string, PROBABILIDADE_CLASSIFICACAO: double, CLASSIFICACAO: string, CNPJ_BASICO: string, NM_MATRIZ_FILIAL: string, NM_SIT_CADASTRAL: string, DT_INICIO_ATIVIDADE: date, ENDERECO_COMPLETO: string, TIPO_LOUGRADOURO: string, CEP: int, MUNICIPIO: string, DDD2: string, TEL2: string, valid_email: string, PROVEDOR: string, NM_MOTIVO: string, CNAE: string, NM_PAIS: string, ano_cadastro: int, mes_cadastro: int, DT_SIT_CADASTRAL: date, ano_sit_cadastral: int, mes_sit_cadastral: int, CPF_CRIPTOGRAFADO: string, TEL1: string, DDD1: string, TIPO_TELEFONE: string, OPERADORA: string, FAIXA_CEL: string, UF: string, CIDADES_REGIOES_PRINCIPAIS: string]"
      ]
     },
     "execution_count": 246,
     "metadata": {},
     "output_type": "execute_result"
    }
   ],
   "source": [
    "df_join"
   ]
  },
  {
   "cell_type": "code",
   "execution_count": 225,
   "id": "18bedd33-91d9-4b6c-9729-5d7ec6b10fda",
   "metadata": {
    "tags": []
   },
   "outputs": [
    {
     "data": {
      "text/plain": [
       "21633869"
      ]
     },
     "execution_count": 225,
     "metadata": {},
     "output_type": "execute_result"
    }
   ],
   "source": [
    "df_join.count()"
   ]
  },
  {
   "cell_type": "code",
   "execution_count": 226,
   "id": "a48286c7-205c-4a4c-a12f-fc4e917298e0",
   "metadata": {
    "tags": []
   },
   "outputs": [
    {
     "data": {
      "text/plain": [
       "19941823"
      ]
     },
     "execution_count": 226,
     "metadata": {},
     "output_type": "execute_result"
    }
   ],
   "source": [
    "df_join.dropDuplicates().count()"
   ]
  },
  {
   "cell_type": "code",
   "execution_count": 199,
   "id": "bcc69fec-f7c4-4454-a4c3-9387c8d0816f",
   "metadata": {
    "tags": []
   },
   "outputs": [
    {
     "name": "stdout",
     "output_type": "stream",
     "text": [
      "CPU times: total: 0 ns\n",
      "Wall time: 2.72 s\n"
     ]
    },
    {
     "data": {
      "text/html": [
       "<div>\n",
       "<style scoped>\n",
       "    .dataframe tbody tr th:only-of-type {\n",
       "        vertical-align: middle;\n",
       "    }\n",
       "\n",
       "    .dataframe tbody tr th {\n",
       "        vertical-align: top;\n",
       "    }\n",
       "\n",
       "    .dataframe thead th {\n",
       "        text-align: right;\n",
       "    }\n",
       "</style>\n",
       "<table border=\"1\" class=\"dataframe\">\n",
       "  <thead>\n",
       "    <tr style=\"text-align: right;\">\n",
       "      <th></th>\n",
       "      <th>TIPO_TELEFONE</th>\n",
       "      <th>count</th>\n",
       "    </tr>\n",
       "  </thead>\n",
       "  <tbody>\n",
       "    <tr>\n",
       "      <th>0</th>\n",
       "      <td>TELEFONE CELULAR</td>\n",
       "      <td>14568424</td>\n",
       "    </tr>\n",
       "    <tr>\n",
       "      <th>1</th>\n",
       "      <td>TELEFONE FIXO</td>\n",
       "      <td>6769716</td>\n",
       "    </tr>\n",
       "  </tbody>\n",
       "</table>\n",
       "</div>"
      ],
      "text/plain": [
       "      TIPO_TELEFONE     count\n",
       "0  TELEFONE CELULAR  14568424\n",
       "1     TELEFONE FIXO   6769716"
      ]
     },
     "execution_count": 199,
     "metadata": {},
     "output_type": "execute_result"
    }
   ],
   "source": [
    "%%time\n",
    "df = df_tel_hig.groupBy('TIPO_TELEFONE').count().orderBy(col('count').desc()).toPandas()\n",
    "df"
   ]
  },
  {
   "cell_type": "code",
   "execution_count": 245,
   "id": "64191b91-a5ff-4fd3-8277-520ffdef12bc",
   "metadata": {
    "tags": []
   },
   "outputs": [
    {
     "data": {
      "text/html": [
       "<table border='1'>\n",
       "<tr><th>CNPJ</th><th>NOME_EMPRESA</th><th>CAP_SOCIAL</th><th>NM_PORTE</th><th>NAT_JURICA</th><th>ENTE_FEDERATIVO</th><th>NM_QUALIFICACAO</th><th>CPF_CRIPTOGRAFADO</th><th>CPF_LEN</th><th>PROBABILIDADE_DE_SER_CPF</th><th>PRIMEIRO_NOME</th><th>GRUPO_NOME</th><th>PROBABILIDADE_CLASSIFICACAO</th><th>CLASSIFICACAO</th><th>CNPJ_BASICO</th><th>NM_MATRIZ_FILIAL</th><th>NM_SIT_CADASTRAL</th><th>DT_INICIO_ATIVIDADE</th><th>ENDERECO_COMPLETO</th><th>TIPO_LOUGRADOURO</th><th>CEP</th><th>UF</th><th>MUNICIPIO</th><th>DDD1</th><th>TEL1</th><th>DDD2</th><th>TEL2</th><th>valid_email</th><th>PROVEDOR</th><th>NM_MOTIVO</th><th>CNAE</th><th>NM_PAIS</th><th>ano_cadastro</th><th>mes_cadastro</th><th>DT_SIT_CADASTRAL</th><th>ano_sit_cadastral</th><th>mes_sit_cadastral</th></tr>\n",
       "<tr><td>00152842</td><td>JOSE AGOSTINHO FU...</td><td>500,00</td><td>MICRO EMPRESA</td><td>Empres&aacute;rio (Indiv...</td><td>NULL</td><td>Empres&aacute;rio</td><td>FqZcgBeH9ms1IALMg...</td><td>11</td><td>SIM</td><td>JOSE</td><td>JOSE</td><td>0.5957446808510638</td><td>M</td><td>00152842</td><td>MATRIZ</td><td>BAIXADA</td><td>1994-07-28</td><td>RUA PERIGUARI, 19...</td><td>RUA</td><td>3718050</td><td>SP</td><td>SAO PAULO</td><td>11</td><td>38814804</td><td>NULL</td><td>NULL</td><td>escritoriocontabi...</td><td>GMAIL</td><td>EXTINCAO POR ENCE...</td><td>Com&eacute;rcio varejist...</td><td>NULL</td><td>1994</td><td>7</td><td>2017-07-07</td><td>2017</td><td>7</td></tr>\n",
       "<tr><td>00241892</td><td>FRANCISCO VALDEVI...</td><td>0,00</td><td>MICRO EMPRESA</td><td>Empres&aacute;rio (Indiv...</td><td>NULL</td><td>Empres&aacute;rio</td><td>t66maKwnTOk7rVkve...</td><td>11</td><td>SIM</td><td>FRANCISCO</td><td>FRANCISCO</td><td>1.0</td><td>M</td><td>00241892</td><td>MATRIZ</td><td>ATIVA</td><td>1994-10-13</td><td>RUA FLORENCIO TAB...</td><td>RUA</td><td>62665000</td><td>CE</td><td>SAO LUIS DO CURU</td><td>NULL</td><td>NULL</td><td>NULL</td><td>NULL</td><td>NULL</td><td>NULL</td><td>SEM MOTIVO</td><td>Com&eacute;rcio varejist...</td><td>NULL</td><td>1994</td><td>10</td><td>2005-11-03</td><td>2005</td><td>11</td></tr>\n",
       "<tr><td>00284227</td><td>EDITE FARIAS LIMA...</td><td>0,00</td><td>MICRO EMPRESA</td><td>Empres&aacute;rio (Indiv...</td><td>NULL</td><td>Empres&aacute;rio</td><td>efpBefcl2huls+jyV...</td><td>11</td><td>SIM</td><td>EDITE</td><td>EDITE</td><td>1.0</td><td>F</td><td>00284227</td><td>MATRIZ</td><td>INAPTA</td><td>1994-11-08</td><td>RUA SANTOS DUMONT...</td><td>RUA</td><td>63750000</td><td>CE</td><td>TAMBORIL</td><td>NULL</td><td>NULL</td><td>NULL</td><td>NULL</td><td>NULL</td><td>NULL</td><td>OMISSAO DE DECLAR...</td><td>Comercio varejist...</td><td>NULL</td><td>1994</td><td>11</td><td>2021-02-24</td><td>2021</td><td>2</td></tr>\n",
       "<tr><td>00332760</td><td>MARIA DE LOURDES ...</td><td>0,00</td><td>DEMAIS</td><td>Empres&aacute;rio (Indiv...</td><td>NULL</td><td>Empres&aacute;rio</td><td>nOMKjVGEA5O2rYjsO...</td><td>11</td><td>SIM</td><td>MARIA</td><td>MARIA</td><td>1.0</td><td>F</td><td>00332760</td><td>MATRIZ</td><td>BAIXADA</td><td>1994-12-05</td><td>RUA V, 16, JANUAR...</td><td>RUA</td><td>39480000</td><td>MG</td><td>JANUARIA</td><td>NULL</td><td>NULL</td><td>NULL</td><td>NULL</td><td>NULL</td><td>NULL</td><td>INAPTIDAO (LEI 11...</td><td>Com&eacute;rcio varejist...</td><td>NULL</td><td>1994</td><td>12</td><td>2008-12-31</td><td>2008</td><td>12</td></tr>\n",
       "<tr><td>00340464</td><td>DILSON PEREIRA DE...</td><td>0,00</td><td>MICRO EMPRESA</td><td>Empres&aacute;rio (Indiv...</td><td>NULL</td><td>Empres&aacute;rio</td><td>ul/lo0HkGvH0ccAt4...</td><td>11</td><td>SIM</td><td>DILSON</td><td>DILSON</td><td>1.0</td><td>M</td><td>00340464</td><td>MATRIZ</td><td>ATIVA</td><td>1994-11-28</td><td>RUA VEREADOR JOAO...</td><td>RUA</td><td>38700248</td><td>MG</td><td>PATOS DE MINAS</td><td>NULL</td><td>NULL</td><td>NULL</td><td>NULL</td><td>NULL</td><td>NULL</td><td>SEM MOTIVO</td><td>Com&eacute;rcio varejist...</td><td>NULL</td><td>1994</td><td>11</td><td>2000-12-23</td><td>2000</td><td>12</td></tr>\n",
       "<tr><td>00380927</td><td>MARIA PATEK GORDI...</td><td>0,00</td><td>MICRO EMPRESA</td><td>Empres&aacute;rio (Indiv...</td><td>NULL</td><td>Empres&aacute;rio</td><td>8b1GJ9Ow/fbhoSGGb...</td><td>11</td><td>SIM</td><td>MARIA</td><td>MARIA</td><td>1.0</td><td>F</td><td>00380927</td><td>MATRIZ</td><td>ATIVA</td><td>1995-01-09</td><td>RUA DR HEITOR S D...</td><td>RUA</td><td>84130000</td><td>PR</td><td>PALMEIRA</td><td>NULL</td><td>NULL</td><td>NULL</td><td>NULL</td><td>NULL</td><td>NULL</td><td>SEM MOTIVO</td><td>Com&eacute;rcio varejist...</td><td>NULL</td><td>1995</td><td>1</td><td>2005-09-03</td><td>2005</td><td>9</td></tr>\n",
       "<tr><td>00400145</td><td>EDMILSON MARCARIN...</td><td>0,00</td><td>MICRO EMPRESA</td><td>Empres&aacute;rio (Indiv...</td><td>NULL</td><td>Empres&aacute;rio</td><td>i3PqnoPsZi+D2mWYM...</td><td>11</td><td>SIM</td><td>EDMILSON</td><td>EDMILSON</td><td>1.0</td><td>M</td><td>00400145</td><td>MATRIZ</td><td>ATIVA</td><td>1995-01-17</td><td>C�RREGO PANORAMA,...</td><td>C�RREGO</td><td>35280000</td><td>MG</td><td>ITABIRINHA</td><td>33</td><td>32471135</td><td>NULL</td><td>NULL</td><td>arycontabilidade@...</td><td>RALNET</td><td>SEM MOTIVO</td><td>Torrefa&ccedil;&atilde;o e moag...</td><td>NULL</td><td>1995</td><td>1</td><td>2005-11-03</td><td>2005</td><td>11</td></tr>\n",
       "<tr><td>00420958</td><td>PEDRO AGNALDO DE ...</td><td>0,00</td><td>MICRO EMPRESA</td><td>Empres&aacute;rio (Indiv...</td><td>NULL</td><td>Empres&aacute;rio</td><td>u1BUedpVO+71f1hsE...</td><td>11</td><td>SIM</td><td>PEDRO</td><td>PEDRO</td><td>1.0</td><td>M</td><td>00420958</td><td>MATRIZ</td><td>ATIVA</td><td>1995-02-07</td><td>SITIO DIOGO, CAPE...</td><td>SITIO</td><td>37993000</td><td>MG</td><td>CAPETINGA</td><td>35</td><td>35431218</td><td>NULL</td><td>NULL</td><td>NULL</td><td>NULL</td><td>SEM MOTIVO</td><td>Com&eacute;rcio atacadis...</td><td>NULL</td><td>1995</td><td>2</td><td>2005-11-03</td><td>2005</td><td>11</td></tr>\n",
       "<tr><td>00460032</td><td>PAULO GALVAO DA S...</td><td>0,00</td><td>DEMAIS</td><td>Empres&aacute;rio (Indiv...</td><td>NULL</td><td>Empres&aacute;rio</td><td>WUOXFPjjYu5zp/1pp...</td><td>11</td><td>SIM</td><td>PAULO</td><td>PAULO</td><td>0.9795640326975477</td><td>M</td><td>00460032</td><td>MATRIZ</td><td>BAIXADA</td><td>1995-03-03</td><td>RUA DR. JOSE BALB...</td><td>RUA</td><td>37975000</td><td>MG</td><td>ITAU DE MINAS</td><td>NULL</td><td>NULL</td><td>NULL</td><td>NULL</td><td>NULL</td><td>NULL</td><td>EXTINCAO POR ENCE...</td><td>Com&eacute;rcio varejist...</td><td>NULL</td><td>1995</td><td>3</td><td>2003-10-13</td><td>2003</td><td>10</td></tr>\n",
       "<tr><td>00460032</td><td>PAULO GALVAO DA S...</td><td>0,00</td><td>DEMAIS</td><td>Empres&aacute;rio (Indiv...</td><td>NULL</td><td>Empres&aacute;rio</td><td>WUOXFPjjYu5zp/1pp...</td><td>11</td><td>SIM</td><td>PAULO</td><td>PAULO</td><td>0.9795640326975477</td><td>M</td><td>00460032</td><td>MATRIZ</td><td>BAIXADA</td><td>1995-03-03</td><td>RUA DR. JOSE BALB...</td><td>RUA</td><td>37975000</td><td>MG</td><td>ITAU DE MINAS</td><td>NULL</td><td>NULL</td><td>NULL</td><td>NULL</td><td>NULL</td><td>NULL</td><td>EXTINCAO POR ENCE...</td><td>Com&eacute;rcio varejist...</td><td>NULL</td><td>1995</td><td>3</td><td>2003-10-13</td><td>2003</td><td>10</td></tr>\n",
       "</table>\n",
       "only showing top 10 rows\n"
      ],
      "text/plain": [
       "+--------+--------------------+----------+-------------+--------------------+---------------+---------------+--------------------+-------+------------------------+-------------+----------+---------------------------+-------------+-----------+----------------+----------------+-------------------+--------------------+----------------+--------+---+----------------+----+--------+----+----+--------------------+--------+--------------------+--------------------+-------+------------+------------+----------------+-----------------+-----------------+\n",
       "|    CNPJ|        NOME_EMPRESA|CAP_SOCIAL|     NM_PORTE|          NAT_JURICA|ENTE_FEDERATIVO|NM_QUALIFICACAO|   CPF_CRIPTOGRAFADO|CPF_LEN|PROBABILIDADE_DE_SER_CPF|PRIMEIRO_NOME|GRUPO_NOME|PROBABILIDADE_CLASSIFICACAO|CLASSIFICACAO|CNPJ_BASICO|NM_MATRIZ_FILIAL|NM_SIT_CADASTRAL|DT_INICIO_ATIVIDADE|   ENDERECO_COMPLETO|TIPO_LOUGRADOURO|     CEP| UF|       MUNICIPIO|DDD1|    TEL1|DDD2|TEL2|         valid_email|PROVEDOR|           NM_MOTIVO|                CNAE|NM_PAIS|ano_cadastro|mes_cadastro|DT_SIT_CADASTRAL|ano_sit_cadastral|mes_sit_cadastral|\n",
       "+--------+--------------------+----------+-------------+--------------------+---------------+---------------+--------------------+-------+------------------------+-------------+----------+---------------------------+-------------+-----------+----------------+----------------+-------------------+--------------------+----------------+--------+---+----------------+----+--------+----+----+--------------------+--------+--------------------+--------------------+-------+------------+------------+----------------+-----------------+-----------------+\n",
       "|00152842|JOSE AGOSTINHO FU...|    500,00|MICRO EMPRESA|Empresário (Indiv...|           NULL|     Empresário|FqZcgBeH9ms1IALMg...|     11|                     SIM|         JOSE|      JOSE|         0.5957446808510638|            M|   00152842|          MATRIZ|         BAIXADA|         1994-07-28|RUA PERIGUARI, 19...|             RUA| 3718050| SP|       SAO PAULO|  11|38814804|NULL|NULL|escritoriocontabi...|   GMAIL|EXTINCAO POR ENCE...|Comércio varejist...|   NULL|        1994|           7|      2017-07-07|             2017|                7|\n",
       "|00241892|FRANCISCO VALDEVI...|      0,00|MICRO EMPRESA|Empresário (Indiv...|           NULL|     Empresário|t66maKwnTOk7rVkve...|     11|                     SIM|    FRANCISCO| FRANCISCO|                        1.0|            M|   00241892|          MATRIZ|           ATIVA|         1994-10-13|RUA FLORENCIO TAB...|             RUA|62665000| CE|SAO LUIS DO CURU|NULL|    NULL|NULL|NULL|                NULL|    NULL|          SEM MOTIVO|Comércio varejist...|   NULL|        1994|          10|      2005-11-03|             2005|               11|\n",
       "|00284227|EDITE FARIAS LIMA...|      0,00|MICRO EMPRESA|Empresário (Indiv...|           NULL|     Empresário|efpBefcl2huls+jyV...|     11|                     SIM|        EDITE|     EDITE|                        1.0|            F|   00284227|          MATRIZ|          INAPTA|         1994-11-08|RUA SANTOS DUMONT...|             RUA|63750000| CE|        TAMBORIL|NULL|    NULL|NULL|NULL|                NULL|    NULL|OMISSAO DE DECLAR...|Comercio varejist...|   NULL|        1994|          11|      2021-02-24|             2021|                2|\n",
       "|00332760|MARIA DE LOURDES ...|      0,00|       DEMAIS|Empresário (Indiv...|           NULL|     Empresário|nOMKjVGEA5O2rYjsO...|     11|                     SIM|        MARIA|     MARIA|                        1.0|            F|   00332760|          MATRIZ|         BAIXADA|         1994-12-05|RUA V, 16, JANUAR...|             RUA|39480000| MG|        JANUARIA|NULL|    NULL|NULL|NULL|                NULL|    NULL|INAPTIDAO (LEI 11...|Comércio varejist...|   NULL|        1994|          12|      2008-12-31|             2008|               12|\n",
       "|00340464|DILSON PEREIRA DE...|      0,00|MICRO EMPRESA|Empresário (Indiv...|           NULL|     Empresário|ul/lo0HkGvH0ccAt4...|     11|                     SIM|       DILSON|    DILSON|                        1.0|            M|   00340464|          MATRIZ|           ATIVA|         1994-11-28|RUA VEREADOR JOAO...|             RUA|38700248| MG|  PATOS DE MINAS|NULL|    NULL|NULL|NULL|                NULL|    NULL|          SEM MOTIVO|Comércio varejist...|   NULL|        1994|          11|      2000-12-23|             2000|               12|\n",
       "|00380927|MARIA PATEK GORDI...|      0,00|MICRO EMPRESA|Empresário (Indiv...|           NULL|     Empresário|8b1GJ9Ow/fbhoSGGb...|     11|                     SIM|        MARIA|     MARIA|                        1.0|            F|   00380927|          MATRIZ|           ATIVA|         1995-01-09|RUA DR HEITOR S D...|             RUA|84130000| PR|        PALMEIRA|NULL|    NULL|NULL|NULL|                NULL|    NULL|          SEM MOTIVO|Comércio varejist...|   NULL|        1995|           1|      2005-09-03|             2005|                9|\n",
       "|00400145|EDMILSON MARCARIN...|      0,00|MICRO EMPRESA|Empresário (Indiv...|           NULL|     Empresário|i3PqnoPsZi+D2mWYM...|     11|                     SIM|     EDMILSON|  EDMILSON|                        1.0|            M|   00400145|          MATRIZ|           ATIVA|         1995-01-17|C�RREGO PANORAMA,...|         C�RREGO|35280000| MG|      ITABIRINHA|  33|32471135|NULL|NULL|arycontabilidade@...|  RALNET|          SEM MOTIVO|Torrefação e moag...|   NULL|        1995|           1|      2005-11-03|             2005|               11|\n",
       "|00420958|PEDRO AGNALDO DE ...|      0,00|MICRO EMPRESA|Empresário (Indiv...|           NULL|     Empresário|u1BUedpVO+71f1hsE...|     11|                     SIM|        PEDRO|     PEDRO|                        1.0|            M|   00420958|          MATRIZ|           ATIVA|         1995-02-07|SITIO DIOGO, CAPE...|           SITIO|37993000| MG|       CAPETINGA|  35|35431218|NULL|NULL|                NULL|    NULL|          SEM MOTIVO|Comércio atacadis...|   NULL|        1995|           2|      2005-11-03|             2005|               11|\n",
       "|00460032|PAULO GALVAO DA S...|      0,00|       DEMAIS|Empresário (Indiv...|           NULL|     Empresário|WUOXFPjjYu5zp/1pp...|     11|                     SIM|        PAULO|     PAULO|         0.9795640326975477|            M|   00460032|          MATRIZ|         BAIXADA|         1995-03-03|RUA DR. JOSE BALB...|             RUA|37975000| MG|   ITAU DE MINAS|NULL|    NULL|NULL|NULL|                NULL|    NULL|EXTINCAO POR ENCE...|Comércio varejist...|   NULL|        1995|           3|      2003-10-13|             2003|               10|\n",
       "|00460032|PAULO GALVAO DA S...|      0,00|       DEMAIS|Empresário (Indiv...|           NULL|     Empresário|WUOXFPjjYu5zp/1pp...|     11|                     SIM|        PAULO|     PAULO|         0.9795640326975477|            M|   00460032|          MATRIZ|         BAIXADA|         1995-03-03|RUA DR. JOSE BALB...|             RUA|37975000| MG|   ITAU DE MINAS|NULL|    NULL|NULL|NULL|                NULL|    NULL|EXTINCAO POR ENCE...|Comércio varejist...|   NULL|        1995|           3|      2003-10-13|             2003|               10|\n",
       "+--------+--------------------+----------+-------------+--------------------+---------------+---------------+--------------------+-------+------------------------+-------------+----------+---------------------------+-------------+-----------+----------------+----------------+-------------------+--------------------+----------------+--------+---+----------------+----+--------+----+----+--------------------+--------+--------------------+--------------------+-------+------------+------------+----------------+-----------------+-----------------+\n",
       "only showing top 10 rows"
      ]
     },
     "execution_count": 245,
     "metadata": {},
     "output_type": "execute_result"
    }
   ],
   "source": [
    "df"
   ]
  },
  {
   "cell_type": "code",
   "execution_count": 108,
   "id": "cb8caae2-0c6f-40c9-b84b-b746cc02af55",
   "metadata": {
    "tags": []
   },
   "outputs": [
    {
     "name": "stdout",
     "output_type": "stream",
     "text": [
      "CPU times: total: 31.2 ms\n",
      "Wall time: 43.9 s\n"
     ]
    },
    {
     "data": {
      "text/html": [
       "<div>\n",
       "<style scoped>\n",
       "    .dataframe tbody tr th:only-of-type {\n",
       "        vertical-align: middle;\n",
       "    }\n",
       "\n",
       "    .dataframe tbody tr th {\n",
       "        vertical-align: top;\n",
       "    }\n",
       "\n",
       "    .dataframe thead th {\n",
       "        text-align: right;\n",
       "    }\n",
       "</style>\n",
       "<table border=\"1\" class=\"dataframe\">\n",
       "  <thead>\n",
       "    <tr style=\"text-align: right;\">\n",
       "      <th></th>\n",
       "      <th>TIPO_TELEFONE_FINAL</th>\n",
       "      <th>count</th>\n",
       "    </tr>\n",
       "  </thead>\n",
       "  <tbody>\n",
       "    <tr>\n",
       "      <th>0</th>\n",
       "      <td>TELEFONE CELULAR</td>\n",
       "      <td>14566787</td>\n",
       "    </tr>\n",
       "    <tr>\n",
       "      <th>1</th>\n",
       "      <td>TELEFONE FIXO</td>\n",
       "      <td>6769716</td>\n",
       "    </tr>\n",
       "  </tbody>\n",
       "</table>\n",
       "</div>"
      ],
      "text/plain": [
       "  TIPO_TELEFONE_FINAL     count\n",
       "0    TELEFONE CELULAR  14566787\n",
       "1       TELEFONE FIXO   6769716"
      ]
     },
     "execution_count": 108,
     "metadata": {},
     "output_type": "execute_result"
    }
   ],
   "source": [
    "%%time\n",
    "df = df_tel_joined.groupBy('TIPO_TELEFONE_FINAL').count().orderBy(col('count').desc()).toPandas()\n",
    "df"
   ]
  },
  {
   "cell_type": "code",
   "execution_count": 107,
   "id": "5bc9391e-51ef-468b-b937-28819956598e",
   "metadata": {
    "tags": []
   },
   "outputs": [
    {
     "name": "stdout",
     "output_type": "stream",
     "text": [
      "CPU times: total: 15.6 ms\n",
      "Wall time: 9.44 s\n"
     ]
    },
    {
     "data": {
      "text/html": [
       "<div>\n",
       "<style scoped>\n",
       "    .dataframe tbody tr th:only-of-type {\n",
       "        vertical-align: middle;\n",
       "    }\n",
       "\n",
       "    .dataframe tbody tr th {\n",
       "        vertical-align: top;\n",
       "    }\n",
       "\n",
       "    .dataframe thead th {\n",
       "        text-align: right;\n",
       "    }\n",
       "</style>\n",
       "<table border=\"1\" class=\"dataframe\">\n",
       "  <thead>\n",
       "    <tr style=\"text-align: right;\">\n",
       "      <th></th>\n",
       "      <th>TIPO_TELEFONE</th>\n",
       "      <th>count</th>\n",
       "    </tr>\n",
       "  </thead>\n",
       "  <tbody>\n",
       "    <tr>\n",
       "      <th>0</th>\n",
       "      <td>TELEFONE CELULAR</td>\n",
       "      <td>14543116</td>\n",
       "    </tr>\n",
       "    <tr>\n",
       "      <th>1</th>\n",
       "      <td>TELEFONE FIXO</td>\n",
       "      <td>6361698</td>\n",
       "    </tr>\n",
       "    <tr>\n",
       "      <th>2</th>\n",
       "      <td>VALIDACAO_ESPECIAL</td>\n",
       "      <td>431689</td>\n",
       "    </tr>\n",
       "  </tbody>\n",
       "</table>\n",
       "</div>"
      ],
      "text/plain": [
       "        TIPO_TELEFONE     count\n",
       "0    TELEFONE CELULAR  14543116\n",
       "1       TELEFONE FIXO   6361698\n",
       "2  VALIDACAO_ESPECIAL    431689"
      ]
     },
     "execution_count": 107,
     "metadata": {},
     "output_type": "execute_result"
    }
   ],
   "source": [
    "%%time\n",
    "df = df_tel.groupBy('TIPO_TELEFONE').count().orderBy(col('count').desc()).toPandas()\n",
    "df"
   ]
  },
  {
   "cell_type": "code",
   "execution_count": 16,
   "id": "32e1c795-760e-499d-ace1-0017a3165a9d",
   "metadata": {
    "tags": []
   },
   "outputs": [
    {
     "name": "stdout",
     "output_type": "stream",
     "text": [
      "CPU times: total: 0 ns\n",
      "Wall time: 4.07 s\n"
     ]
    },
    {
     "data": {
      "text/html": [
       "<div>\n",
       "<style scoped>\n",
       "    .dataframe tbody tr th:only-of-type {\n",
       "        vertical-align: middle;\n",
       "    }\n",
       "\n",
       "    .dataframe tbody tr th {\n",
       "        vertical-align: top;\n",
       "    }\n",
       "\n",
       "    .dataframe thead th {\n",
       "        text-align: right;\n",
       "    }\n",
       "</style>\n",
       "<table border=\"1\" class=\"dataframe\">\n",
       "  <thead>\n",
       "    <tr style=\"text-align: right;\">\n",
       "      <th></th>\n",
       "      <th>len_ddd1</th>\n",
       "      <th>count</th>\n",
       "    </tr>\n",
       "  </thead>\n",
       "  <tbody>\n",
       "    <tr>\n",
       "      <th>0</th>\n",
       "      <td>2</td>\n",
       "      <td>21403598</td>\n",
       "    </tr>\n",
       "    <tr>\n",
       "      <th>1</th>\n",
       "      <td>1</td>\n",
       "      <td>47816</td>\n",
       "    </tr>\n",
       "    <tr>\n",
       "      <th>2</th>\n",
       "      <td>3</td>\n",
       "      <td>1120</td>\n",
       "    </tr>\n",
       "    <tr>\n",
       "      <th>3</th>\n",
       "      <td>4</td>\n",
       "      <td>82</td>\n",
       "    </tr>\n",
       "  </tbody>\n",
       "</table>\n",
       "</div>"
      ],
      "text/plain": [
       "   len_ddd1     count\n",
       "0         2  21403598\n",
       "1         1     47816\n",
       "2         3      1120\n",
       "3         4        82"
      ]
     },
     "execution_count": 16,
     "metadata": {},
     "output_type": "execute_result"
    }
   ],
   "source": [
    "%%time\n",
    "df = df_tel.groupBy('len_ddd1').count().orderBy(col('count').desc()).toPandas()\n",
    "df"
   ]
  },
  {
   "cell_type": "code",
   "execution_count": 15,
   "id": "81dbf493-c386-469a-a895-9057518c5b01",
   "metadata": {
    "tags": []
   },
   "outputs": [
    {
     "data": {
      "text/html": [
       "<div>\n",
       "<style scoped>\n",
       "    .dataframe tbody tr th:only-of-type {\n",
       "        vertical-align: middle;\n",
       "    }\n",
       "\n",
       "    .dataframe tbody tr th {\n",
       "        vertical-align: top;\n",
       "    }\n",
       "\n",
       "    .dataframe thead th {\n",
       "        text-align: right;\n",
       "    }\n",
       "</style>\n",
       "<table border=\"1\" class=\"dataframe\">\n",
       "  <thead>\n",
       "    <tr style=\"text-align: right;\">\n",
       "      <th></th>\n",
       "      <th>len_tel1</th>\n",
       "      <th>count</th>\n",
       "    </tr>\n",
       "  </thead>\n",
       "  <tbody>\n",
       "    <tr>\n",
       "      <th>0</th>\n",
       "      <td>8</td>\n",
       "      <td>21339488</td>\n",
       "    </tr>\n",
       "    <tr>\n",
       "      <th>1</th>\n",
       "      <td>1</td>\n",
       "      <td>110295</td>\n",
       "    </tr>\n",
       "    <tr>\n",
       "      <th>2</th>\n",
       "      <td>7</td>\n",
       "      <td>2522</td>\n",
       "    </tr>\n",
       "    <tr>\n",
       "      <th>3</th>\n",
       "      <td>6</td>\n",
       "      <td>149</td>\n",
       "    </tr>\n",
       "    <tr>\n",
       "      <th>4</th>\n",
       "      <td>4</td>\n",
       "      <td>64</td>\n",
       "    </tr>\n",
       "    <tr>\n",
       "      <th>5</th>\n",
       "      <td>5</td>\n",
       "      <td>50</td>\n",
       "    </tr>\n",
       "    <tr>\n",
       "      <th>6</th>\n",
       "      <td>2</td>\n",
       "      <td>35</td>\n",
       "    </tr>\n",
       "    <tr>\n",
       "      <th>7</th>\n",
       "      <td>3</td>\n",
       "      <td>13</td>\n",
       "    </tr>\n",
       "  </tbody>\n",
       "</table>\n",
       "</div>"
      ],
      "text/plain": [
       "   len_tel1     count\n",
       "0         8  21339488\n",
       "1         1    110295\n",
       "2         7      2522\n",
       "3         6       149\n",
       "4         4        64\n",
       "5         5        50\n",
       "6         2        35\n",
       "7         3        13"
      ]
     },
     "execution_count": 15,
     "metadata": {},
     "output_type": "execute_result"
    }
   ],
   "source": [
    "%%time\n",
    "df_uf = df_tel.groupBy('len_tel1').count().orderBy(col('count').desc()).toPandas()\n",
    "df_uf"
   ]
  },
  {
   "cell_type": "code",
   "execution_count": 14,
   "id": "14c9ae45-fdc4-4f0e-b9e6-ca15fd071ee7",
   "metadata": {
    "tags": []
   },
   "outputs": [
    {
     "name": "stdout",
     "output_type": "stream",
     "text": [
      "CPU times: total: 656 ms\n",
      "Wall time: 6.83 s\n"
     ]
    },
    {
     "data": {
      "application/vnd.plotly.v1+json": {
       "config": {
        "plotlyServerURL": "https://plotly.com"
       },
       "data": [
        {
         "alignmentgroup": "True",
         "bingroup": "x",
         "histfunc": "sum",
         "histnorm": "percent",
         "hovertemplate": "len_tel1=%{x}<br>percent of sum of count=%{y}<extra></extra>",
         "legendgroup": "",
         "marker": {
          "color": "#636efa",
          "pattern": {
           "shape": ""
          }
         },
         "name": "",
         "offsetgroup": "",
         "orientation": "v",
         "showlegend": false,
         "type": "histogram",
         "x": [
          8,
          1,
          7,
          6,
          4,
          5,
          2,
          3
         ],
         "xaxis": "x",
         "y": [
          21339488,
          110295,
          2522,
          149,
          64,
          50,
          35,
          13
         ],
         "yaxis": "y"
        }
       ],
       "layout": {
        "barmode": "relative",
        "height": 400,
        "legend": {
         "tracegroupgap": 0
        },
        "margin": {
         "t": 60
        },
        "template": {
         "data": {
          "bar": [
           {
            "error_x": {
             "color": "#2a3f5f"
            },
            "error_y": {
             "color": "#2a3f5f"
            },
            "marker": {
             "line": {
              "color": "#E5ECF6",
              "width": 0.5
             },
             "pattern": {
              "fillmode": "overlay",
              "size": 10,
              "solidity": 0.2
             }
            },
            "type": "bar"
           }
          ],
          "barpolar": [
           {
            "marker": {
             "line": {
              "color": "#E5ECF6",
              "width": 0.5
             },
             "pattern": {
              "fillmode": "overlay",
              "size": 10,
              "solidity": 0.2
             }
            },
            "type": "barpolar"
           }
          ],
          "carpet": [
           {
            "aaxis": {
             "endlinecolor": "#2a3f5f",
             "gridcolor": "white",
             "linecolor": "white",
             "minorgridcolor": "white",
             "startlinecolor": "#2a3f5f"
            },
            "baxis": {
             "endlinecolor": "#2a3f5f",
             "gridcolor": "white",
             "linecolor": "white",
             "minorgridcolor": "white",
             "startlinecolor": "#2a3f5f"
            },
            "type": "carpet"
           }
          ],
          "choropleth": [
           {
            "colorbar": {
             "outlinewidth": 0,
             "ticks": ""
            },
            "type": "choropleth"
           }
          ],
          "contour": [
           {
            "colorbar": {
             "outlinewidth": 0,
             "ticks": ""
            },
            "colorscale": [
             [
              0,
              "#0d0887"
             ],
             [
              0.1111111111111111,
              "#46039f"
             ],
             [
              0.2222222222222222,
              "#7201a8"
             ],
             [
              0.3333333333333333,
              "#9c179e"
             ],
             [
              0.4444444444444444,
              "#bd3786"
             ],
             [
              0.5555555555555556,
              "#d8576b"
             ],
             [
              0.6666666666666666,
              "#ed7953"
             ],
             [
              0.7777777777777778,
              "#fb9f3a"
             ],
             [
              0.8888888888888888,
              "#fdca26"
             ],
             [
              1,
              "#f0f921"
             ]
            ],
            "type": "contour"
           }
          ],
          "contourcarpet": [
           {
            "colorbar": {
             "outlinewidth": 0,
             "ticks": ""
            },
            "type": "contourcarpet"
           }
          ],
          "heatmap": [
           {
            "colorbar": {
             "outlinewidth": 0,
             "ticks": ""
            },
            "colorscale": [
             [
              0,
              "#0d0887"
             ],
             [
              0.1111111111111111,
              "#46039f"
             ],
             [
              0.2222222222222222,
              "#7201a8"
             ],
             [
              0.3333333333333333,
              "#9c179e"
             ],
             [
              0.4444444444444444,
              "#bd3786"
             ],
             [
              0.5555555555555556,
              "#d8576b"
             ],
             [
              0.6666666666666666,
              "#ed7953"
             ],
             [
              0.7777777777777778,
              "#fb9f3a"
             ],
             [
              0.8888888888888888,
              "#fdca26"
             ],
             [
              1,
              "#f0f921"
             ]
            ],
            "type": "heatmap"
           }
          ],
          "heatmapgl": [
           {
            "colorbar": {
             "outlinewidth": 0,
             "ticks": ""
            },
            "colorscale": [
             [
              0,
              "#0d0887"
             ],
             [
              0.1111111111111111,
              "#46039f"
             ],
             [
              0.2222222222222222,
              "#7201a8"
             ],
             [
              0.3333333333333333,
              "#9c179e"
             ],
             [
              0.4444444444444444,
              "#bd3786"
             ],
             [
              0.5555555555555556,
              "#d8576b"
             ],
             [
              0.6666666666666666,
              "#ed7953"
             ],
             [
              0.7777777777777778,
              "#fb9f3a"
             ],
             [
              0.8888888888888888,
              "#fdca26"
             ],
             [
              1,
              "#f0f921"
             ]
            ],
            "type": "heatmapgl"
           }
          ],
          "histogram": [
           {
            "marker": {
             "pattern": {
              "fillmode": "overlay",
              "size": 10,
              "solidity": 0.2
             }
            },
            "type": "histogram"
           }
          ],
          "histogram2d": [
           {
            "colorbar": {
             "outlinewidth": 0,
             "ticks": ""
            },
            "colorscale": [
             [
              0,
              "#0d0887"
             ],
             [
              0.1111111111111111,
              "#46039f"
             ],
             [
              0.2222222222222222,
              "#7201a8"
             ],
             [
              0.3333333333333333,
              "#9c179e"
             ],
             [
              0.4444444444444444,
              "#bd3786"
             ],
             [
              0.5555555555555556,
              "#d8576b"
             ],
             [
              0.6666666666666666,
              "#ed7953"
             ],
             [
              0.7777777777777778,
              "#fb9f3a"
             ],
             [
              0.8888888888888888,
              "#fdca26"
             ],
             [
              1,
              "#f0f921"
             ]
            ],
            "type": "histogram2d"
           }
          ],
          "histogram2dcontour": [
           {
            "colorbar": {
             "outlinewidth": 0,
             "ticks": ""
            },
            "colorscale": [
             [
              0,
              "#0d0887"
             ],
             [
              0.1111111111111111,
              "#46039f"
             ],
             [
              0.2222222222222222,
              "#7201a8"
             ],
             [
              0.3333333333333333,
              "#9c179e"
             ],
             [
              0.4444444444444444,
              "#bd3786"
             ],
             [
              0.5555555555555556,
              "#d8576b"
             ],
             [
              0.6666666666666666,
              "#ed7953"
             ],
             [
              0.7777777777777778,
              "#fb9f3a"
             ],
             [
              0.8888888888888888,
              "#fdca26"
             ],
             [
              1,
              "#f0f921"
             ]
            ],
            "type": "histogram2dcontour"
           }
          ],
          "mesh3d": [
           {
            "colorbar": {
             "outlinewidth": 0,
             "ticks": ""
            },
            "type": "mesh3d"
           }
          ],
          "parcoords": [
           {
            "line": {
             "colorbar": {
              "outlinewidth": 0,
              "ticks": ""
             }
            },
            "type": "parcoords"
           }
          ],
          "pie": [
           {
            "automargin": true,
            "type": "pie"
           }
          ],
          "scatter": [
           {
            "fillpattern": {
             "fillmode": "overlay",
             "size": 10,
             "solidity": 0.2
            },
            "type": "scatter"
           }
          ],
          "scatter3d": [
           {
            "line": {
             "colorbar": {
              "outlinewidth": 0,
              "ticks": ""
             }
            },
            "marker": {
             "colorbar": {
              "outlinewidth": 0,
              "ticks": ""
             }
            },
            "type": "scatter3d"
           }
          ],
          "scattercarpet": [
           {
            "marker": {
             "colorbar": {
              "outlinewidth": 0,
              "ticks": ""
             }
            },
            "type": "scattercarpet"
           }
          ],
          "scattergeo": [
           {
            "marker": {
             "colorbar": {
              "outlinewidth": 0,
              "ticks": ""
             }
            },
            "type": "scattergeo"
           }
          ],
          "scattergl": [
           {
            "marker": {
             "colorbar": {
              "outlinewidth": 0,
              "ticks": ""
             }
            },
            "type": "scattergl"
           }
          ],
          "scattermapbox": [
           {
            "marker": {
             "colorbar": {
              "outlinewidth": 0,
              "ticks": ""
             }
            },
            "type": "scattermapbox"
           }
          ],
          "scatterpolar": [
           {
            "marker": {
             "colorbar": {
              "outlinewidth": 0,
              "ticks": ""
             }
            },
            "type": "scatterpolar"
           }
          ],
          "scatterpolargl": [
           {
            "marker": {
             "colorbar": {
              "outlinewidth": 0,
              "ticks": ""
             }
            },
            "type": "scatterpolargl"
           }
          ],
          "scatterternary": [
           {
            "marker": {
             "colorbar": {
              "outlinewidth": 0,
              "ticks": ""
             }
            },
            "type": "scatterternary"
           }
          ],
          "surface": [
           {
            "colorbar": {
             "outlinewidth": 0,
             "ticks": ""
            },
            "colorscale": [
             [
              0,
              "#0d0887"
             ],
             [
              0.1111111111111111,
              "#46039f"
             ],
             [
              0.2222222222222222,
              "#7201a8"
             ],
             [
              0.3333333333333333,
              "#9c179e"
             ],
             [
              0.4444444444444444,
              "#bd3786"
             ],
             [
              0.5555555555555556,
              "#d8576b"
             ],
             [
              0.6666666666666666,
              "#ed7953"
             ],
             [
              0.7777777777777778,
              "#fb9f3a"
             ],
             [
              0.8888888888888888,
              "#fdca26"
             ],
             [
              1,
              "#f0f921"
             ]
            ],
            "type": "surface"
           }
          ],
          "table": [
           {
            "cells": {
             "fill": {
              "color": "#EBF0F8"
             },
             "line": {
              "color": "white"
             }
            },
            "header": {
             "fill": {
              "color": "#C8D4E3"
             },
             "line": {
              "color": "white"
             }
            },
            "type": "table"
           }
          ]
         },
         "layout": {
          "annotationdefaults": {
           "arrowcolor": "#2a3f5f",
           "arrowhead": 0,
           "arrowwidth": 1
          },
          "autotypenumbers": "strict",
          "coloraxis": {
           "colorbar": {
            "outlinewidth": 0,
            "ticks": ""
           }
          },
          "colorscale": {
           "diverging": [
            [
             0,
             "#8e0152"
            ],
            [
             0.1,
             "#c51b7d"
            ],
            [
             0.2,
             "#de77ae"
            ],
            [
             0.3,
             "#f1b6da"
            ],
            [
             0.4,
             "#fde0ef"
            ],
            [
             0.5,
             "#f7f7f7"
            ],
            [
             0.6,
             "#e6f5d0"
            ],
            [
             0.7,
             "#b8e186"
            ],
            [
             0.8,
             "#7fbc41"
            ],
            [
             0.9,
             "#4d9221"
            ],
            [
             1,
             "#276419"
            ]
           ],
           "sequential": [
            [
             0,
             "#0d0887"
            ],
            [
             0.1111111111111111,
             "#46039f"
            ],
            [
             0.2222222222222222,
             "#7201a8"
            ],
            [
             0.3333333333333333,
             "#9c179e"
            ],
            [
             0.4444444444444444,
             "#bd3786"
            ],
            [
             0.5555555555555556,
             "#d8576b"
            ],
            [
             0.6666666666666666,
             "#ed7953"
            ],
            [
             0.7777777777777778,
             "#fb9f3a"
            ],
            [
             0.8888888888888888,
             "#fdca26"
            ],
            [
             1,
             "#f0f921"
            ]
           ],
           "sequentialminus": [
            [
             0,
             "#0d0887"
            ],
            [
             0.1111111111111111,
             "#46039f"
            ],
            [
             0.2222222222222222,
             "#7201a8"
            ],
            [
             0.3333333333333333,
             "#9c179e"
            ],
            [
             0.4444444444444444,
             "#bd3786"
            ],
            [
             0.5555555555555556,
             "#d8576b"
            ],
            [
             0.6666666666666666,
             "#ed7953"
            ],
            [
             0.7777777777777778,
             "#fb9f3a"
            ],
            [
             0.8888888888888888,
             "#fdca26"
            ],
            [
             1,
             "#f0f921"
            ]
           ]
          },
          "colorway": [
           "#636efa",
           "#EF553B",
           "#00cc96",
           "#ab63fa",
           "#FFA15A",
           "#19d3f3",
           "#FF6692",
           "#B6E880",
           "#FF97FF",
           "#FECB52"
          ],
          "font": {
           "color": "#2a3f5f"
          },
          "geo": {
           "bgcolor": "white",
           "lakecolor": "white",
           "landcolor": "#E5ECF6",
           "showlakes": true,
           "showland": true,
           "subunitcolor": "white"
          },
          "hoverlabel": {
           "align": "left"
          },
          "hovermode": "closest",
          "mapbox": {
           "style": "light"
          },
          "paper_bgcolor": "white",
          "plot_bgcolor": "#E5ECF6",
          "polar": {
           "angularaxis": {
            "gridcolor": "white",
            "linecolor": "white",
            "ticks": ""
           },
           "bgcolor": "#E5ECF6",
           "radialaxis": {
            "gridcolor": "white",
            "linecolor": "white",
            "ticks": ""
           }
          },
          "scene": {
           "xaxis": {
            "backgroundcolor": "#E5ECF6",
            "gridcolor": "white",
            "gridwidth": 2,
            "linecolor": "white",
            "showbackground": true,
            "ticks": "",
            "zerolinecolor": "white"
           },
           "yaxis": {
            "backgroundcolor": "#E5ECF6",
            "gridcolor": "white",
            "gridwidth": 2,
            "linecolor": "white",
            "showbackground": true,
            "ticks": "",
            "zerolinecolor": "white"
           },
           "zaxis": {
            "backgroundcolor": "#E5ECF6",
            "gridcolor": "white",
            "gridwidth": 2,
            "linecolor": "white",
            "showbackground": true,
            "ticks": "",
            "zerolinecolor": "white"
           }
          },
          "shapedefaults": {
           "line": {
            "color": "#2a3f5f"
           }
          },
          "ternary": {
           "aaxis": {
            "gridcolor": "white",
            "linecolor": "white",
            "ticks": ""
           },
           "baxis": {
            "gridcolor": "white",
            "linecolor": "white",
            "ticks": ""
           },
           "bgcolor": "#E5ECF6",
           "caxis": {
            "gridcolor": "white",
            "linecolor": "white",
            "ticks": ""
           }
          },
          "title": {
           "x": 0.05
          },
          "xaxis": {
           "automargin": true,
           "gridcolor": "white",
           "linecolor": "white",
           "ticks": "",
           "title": {
            "standoff": 15
           },
           "zerolinecolor": "white",
           "zerolinewidth": 2
          },
          "yaxis": {
           "automargin": true,
           "gridcolor": "white",
           "linecolor": "white",
           "ticks": "",
           "title": {
            "standoff": 15
           },
           "zerolinecolor": "white",
           "zerolinewidth": 2
          }
         }
        },
        "title": {
         "font": {
          "color": "black",
          "size": 20
         },
         "text": "Percentual de homens e mulheres que possuem MEI no Brasil",
         "x": 0.5,
         "xanchor": "center",
         "y": 0.95,
         "yanchor": "top"
        },
        "width": 700,
        "xaxis": {
         "anchor": "y",
         "autorange": true,
         "domain": [
          0,
          1
         ],
         "range": [
          -0.5,
          9.5
         ],
         "title": {
          "text": "len_tel1"
         },
         "type": "linear"
        },
        "yaxis": {
         "anchor": "x",
         "autorange": true,
         "domain": [
          0,
          1
         ],
         "range": [
          0,
          104.7080642629711
         ],
         "title": {
          "text": "Quantidade"
         },
         "type": "linear"
        }
       }
      },
      "image/png": "[encoded data removed]",
      "text/html": [
       "<div>                            <div id=\"7286a963-0b9f-4bac-a814-b881232f572b\" class=\"plotly-graph-div\" style=\"height:400px; width:700px;\"></div>            <script type=\"text/javascript\">                require([\"plotly\"], function(Plotly) {                    window.PLOTLYENV=window.PLOTLYENV || {};                                    if (document.getElementById(\"7286a963-0b9f-4bac-a814-b881232f572b\")) {                    Plotly.newPlot(                        \"7286a963-0b9f-4bac-a814-b881232f572b\",                        [{\"alignmentgroup\":\"True\",\"bingroup\":\"x\",\"histfunc\":\"sum\",\"histnorm\":\"percent\",\"hovertemplate\":\"len_tel1=%{x}<br>percent of sum of count=%{y}<extra></extra>\",\"legendgroup\":\"\",\"marker\":{\"color\":\"#636efa\",\"pattern\":{\"shape\":\"\"}},\"name\":\"\",\"offsetgroup\":\"\",\"orientation\":\"v\",\"showlegend\":false,\"x\":[8,1,7,6,4,5,2,3],\"xaxis\":\"x\",\"y\":[21339488,110295,2522,149,64,50,35,13],\"yaxis\":\"y\",\"type\":\"histogram\"}],                        {\"template\":{\"data\":{\"histogram2dcontour\":[{\"type\":\"histogram2dcontour\",\"colorbar\":{\"outlinewidth\":0,\"ticks\":\"\"},\"colorscale\":[[0.0,\"#0d0887\"],[0.1111111111111111,\"#46039f\"],[0.2222222222222222,\"#7201a8\"],[0.3333333333333333,\"#9c179e\"],[0.4444444444444444,\"#bd3786\"],[0.5555555555555556,\"#d8576b\"],[0.6666666666666666,\"#ed7953\"],[0.7777777777777778,\"#fb9f3a\"],[0.8888888888888888,\"#fdca26\"],[1.0,\"#f0f921\"]]}],\"choropleth\":[{\"type\":\"choropleth\",\"colorbar\":{\"outlinewidth\":0,\"ticks\":\"\"}}],\"histogram2d\":[{\"type\":\"histogram2d\",\"colorbar\":{\"outlinewidth\":0,\"ticks\":\"\"},\"colorscale\":[[0.0,\"#0d0887\"],[0.1111111111111111,\"#46039f\"],[0.2222222222222222,\"#7201a8\"],[0.3333333333333333,\"#9c179e\"],[0.4444444444444444,\"#bd3786\"],[0.5555555555555556,\"#d8576b\"],[0.6666666666666666,\"#ed7953\"],[0.7777777777777778,\"#fb9f3a\"],[0.8888888888888888,\"#fdca26\"],[1.0,\"#f0f921\"]]}],\"heatmap\":[{\"type\":\"heatmap\",\"colorbar\":{\"outlinewidth\":0,\"ticks\":\"\"},\"colorscale\":[[0.0,\"#0d0887\"],[0.1111111111111111,\"#46039f\"],[0.2222222222222222,\"#7201a8\"],[0.3333333333333333,\"#9c179e\"],[0.4444444444444444,\"#bd3786\"],[0.5555555555555556,\"#d8576b\"],[0.6666666666666666,\"#ed7953\"],[0.7777777777777778,\"#fb9f3a\"],[0.8888888888888888,\"#fdca26\"],[1.0,\"#f0f921\"]]}],\"heatmapgl\":[{\"type\":\"heatmapgl\",\"colorbar\":{\"outlinewidth\":0,\"ticks\":\"\"},\"colorscale\":[[0.0,\"#0d0887\"],[0.1111111111111111,\"#46039f\"],[0.2222222222222222,\"#7201a8\"],[0.3333333333333333,\"#9c179e\"],[0.4444444444444444,\"#bd3786\"],[0.5555555555555556,\"#d8576b\"],[0.6666666666666666,\"#ed7953\"],[0.7777777777777778,\"#fb9f3a\"],[0.8888888888888888,\"#fdca26\"],[1.0,\"#f0f921\"]]}],\"contourcarpet\":[{\"type\":\"contourcarpet\",\"colorbar\":{\"outlinewidth\":0,\"ticks\":\"\"}}],\"contour\":[{\"type\":\"contour\",\"colorbar\":{\"outlinewidth\":0,\"ticks\":\"\"},\"colorscale\":[[0.0,\"#0d0887\"],[0.1111111111111111,\"#46039f\"],[0.2222222222222222,\"#7201a8\"],[0.3333333333333333,\"#9c179e\"],[0.4444444444444444,\"#bd3786\"],[0.5555555555555556,\"#d8576b\"],[0.6666666666666666,\"#ed7953\"],[0.7777777777777778,\"#fb9f3a\"],[0.8888888888888888,\"#fdca26\"],[1.0,\"#f0f921\"]]}],\"surface\":[{\"type\":\"surface\",\"colorbar\":{\"outlinewidth\":0,\"ticks\":\"\"},\"colorscale\":[[0.0,\"#0d0887\"],[0.1111111111111111,\"#46039f\"],[0.2222222222222222,\"#7201a8\"],[0.3333333333333333,\"#9c179e\"],[0.4444444444444444,\"#bd3786\"],[0.5555555555555556,\"#d8576b\"],[0.6666666666666666,\"#ed7953\"],[0.7777777777777778,\"#fb9f3a\"],[0.8888888888888888,\"#fdca26\"],[1.0,\"#f0f921\"]]}],\"mesh3d\":[{\"type\":\"mesh3d\",\"colorbar\":{\"outlinewidth\":0,\"ticks\":\"\"}}],\"scatter\":[{\"fillpattern\":{\"fillmode\":\"overlay\",\"size\":10,\"solidity\":0.2},\"type\":\"scatter\"}],\"parcoords\":[{\"type\":\"parcoords\",\"line\":{\"colorbar\":{\"outlinewidth\":0,\"ticks\":\"\"}}}],\"scatterpolargl\":[{\"type\":\"scatterpolargl\",\"marker\":{\"colorbar\":{\"outlinewidth\":0,\"ticks\":\"\"}}}],\"bar\":[{\"error_x\":{\"color\":\"#2a3f5f\"},\"error_y\":{\"color\":\"#2a3f5f\"},\"marker\":{\"line\":{\"color\":\"#E5ECF6\",\"width\":0.5},\"pattern\":{\"fillmode\":\"overlay\",\"size\":10,\"solidity\":0.2}},\"type\":\"bar\"}],\"scattergeo\":[{\"type\":\"scattergeo\",\"marker\":{\"colorbar\":{\"outlinewidth\":0,\"ticks\":\"\"}}}],\"scatterpolar\":[{\"type\":\"scatterpolar\",\"marker\":{\"colorbar\":{\"outlinewidth\":0,\"ticks\":\"\"}}}],\"histogram\":[{\"marker\":{\"pattern\":{\"fillmode\":\"overlay\",\"size\":10,\"solidity\":0.2}},\"type\":\"histogram\"}],\"scattergl\":[{\"type\":\"scattergl\",\"marker\":{\"colorbar\":{\"outlinewidth\":0,\"ticks\":\"\"}}}],\"scatter3d\":[{\"type\":\"scatter3d\",\"line\":{\"colorbar\":{\"outlinewidth\":0,\"ticks\":\"\"}},\"marker\":{\"colorbar\":{\"outlinewidth\":0,\"ticks\":\"\"}}}],\"scattermapbox\":[{\"type\":\"scattermapbox\",\"marker\":{\"colorbar\":{\"outlinewidth\":0,\"ticks\":\"\"}}}],\"scatterternary\":[{\"type\":\"scatterternary\",\"marker\":{\"colorbar\":{\"outlinewidth\":0,\"ticks\":\"\"}}}],\"scattercarpet\":[{\"type\":\"scattercarpet\",\"marker\":{\"colorbar\":{\"outlinewidth\":0,\"ticks\":\"\"}}}],\"carpet\":[{\"aaxis\":{\"endlinecolor\":\"#2a3f5f\",\"gridcolor\":\"white\",\"linecolor\":\"white\",\"minorgridcolor\":\"white\",\"startlinecolor\":\"#2a3f5f\"},\"baxis\":{\"endlinecolor\":\"#2a3f5f\",\"gridcolor\":\"white\",\"linecolor\":\"white\",\"minorgridcolor\":\"white\",\"startlinecolor\":\"#2a3f5f\"},\"type\":\"carpet\"}],\"table\":[{\"cells\":{\"fill\":{\"color\":\"#EBF0F8\"},\"line\":{\"color\":\"white\"}},\"header\":{\"fill\":{\"color\":\"#C8D4E3\"},\"line\":{\"color\":\"white\"}},\"type\":\"table\"}],\"barpolar\":[{\"marker\":{\"line\":{\"color\":\"#E5ECF6\",\"width\":0.5},\"pattern\":{\"fillmode\":\"overlay\",\"size\":10,\"solidity\":0.2}},\"type\":\"barpolar\"}],\"pie\":[{\"automargin\":true,\"type\":\"pie\"}]},\"layout\":{\"autotypenumbers\":\"strict\",\"colorway\":[\"#636efa\",\"#EF553B\",\"#00cc96\",\"#ab63fa\",\"#FFA15A\",\"#19d3f3\",\"#FF6692\",\"#B6E880\",\"#FF97FF\",\"#FECB52\"],\"font\":{\"color\":\"#2a3f5f\"},\"hovermode\":\"closest\",\"hoverlabel\":{\"align\":\"left\"},\"paper_bgcolor\":\"white\",\"plot_bgcolor\":\"#E5ECF6\",\"polar\":{\"bgcolor\":\"#E5ECF6\",\"angularaxis\":{\"gridcolor\":\"white\",\"linecolor\":\"white\",\"ticks\":\"\"},\"radialaxis\":{\"gridcolor\":\"white\",\"linecolor\":\"white\",\"ticks\":\"\"}},\"ternary\":{\"bgcolor\":\"#E5ECF6\",\"aaxis\":{\"gridcolor\":\"white\",\"linecolor\":\"white\",\"ticks\":\"\"},\"baxis\":{\"gridcolor\":\"white\",\"linecolor\":\"white\",\"ticks\":\"\"},\"caxis\":{\"gridcolor\":\"white\",\"linecolor\":\"white\",\"ticks\":\"\"}},\"coloraxis\":{\"colorbar\":{\"outlinewidth\":0,\"ticks\":\"\"}},\"colorscale\":{\"sequential\":[[0.0,\"#0d0887\"],[0.1111111111111111,\"#46039f\"],[0.2222222222222222,\"#7201a8\"],[0.3333333333333333,\"#9c179e\"],[0.4444444444444444,\"#bd3786\"],[0.5555555555555556,\"#d8576b\"],[0.6666666666666666,\"#ed7953\"],[0.7777777777777778,\"#fb9f3a\"],[0.8888888888888888,\"#fdca26\"],[1.0,\"#f0f921\"]],\"sequentialminus\":[[0.0,\"#0d0887\"],[0.1111111111111111,\"#46039f\"],[0.2222222222222222,\"#7201a8\"],[0.3333333333333333,\"#9c179e\"],[0.4444444444444444,\"#bd3786\"],[0.5555555555555556,\"#d8576b\"],[0.6666666666666666,\"#ed7953\"],[0.7777777777777778,\"#fb9f3a\"],[0.8888888888888888,\"#fdca26\"],[1.0,\"#f0f921\"]],\"diverging\":[[0,\"#8e0152\"],[0.1,\"#c51b7d\"],[0.2,\"#de77ae\"],[0.3,\"#f1b6da\"],[0.4,\"#fde0ef\"],[0.5,\"#f7f7f7\"],[0.6,\"#e6f5d0\"],[0.7,\"#b8e186\"],[0.8,\"#7fbc41\"],[0.9,\"#4d9221\"],[1,\"#276419\"]]},\"xaxis\":{\"gridcolor\":\"white\",\"linecolor\":\"white\",\"ticks\":\"\",\"title\":{\"standoff\":15},\"zerolinecolor\":\"white\",\"automargin\":true,\"zerolinewidth\":2},\"yaxis\":{\"gridcolor\":\"white\",\"linecolor\":\"white\",\"ticks\":\"\",\"title\":{\"standoff\":15},\"zerolinecolor\":\"white\",\"automargin\":true,\"zerolinewidth\":2},\"scene\":{\"xaxis\":{\"backgroundcolor\":\"#E5ECF6\",\"gridcolor\":\"white\",\"linecolor\":\"white\",\"showbackground\":true,\"ticks\":\"\",\"zerolinecolor\":\"white\",\"gridwidth\":2},\"yaxis\":{\"backgroundcolor\":\"#E5ECF6\",\"gridcolor\":\"white\",\"linecolor\":\"white\",\"showbackground\":true,\"ticks\":\"\",\"zerolinecolor\":\"white\",\"gridwidth\":2},\"zaxis\":{\"backgroundcolor\":\"#E5ECF6\",\"gridcolor\":\"white\",\"linecolor\":\"white\",\"showbackground\":true,\"ticks\":\"\",\"zerolinecolor\":\"white\",\"gridwidth\":2}},\"shapedefaults\":{\"line\":{\"color\":\"#2a3f5f\"}},\"annotationdefaults\":{\"arrowcolor\":\"#2a3f5f\",\"arrowhead\":0,\"arrowwidth\":1},\"geo\":{\"bgcolor\":\"white\",\"landcolor\":\"#E5ECF6\",\"subunitcolor\":\"white\",\"showland\":true,\"showlakes\":true,\"lakecolor\":\"white\"},\"title\":{\"x\":0.05},\"mapbox\":{\"style\":\"light\"}}},\"xaxis\":{\"anchor\":\"y\",\"domain\":[0.0,1.0],\"title\":{\"text\":\"len_tel1\"}},\"yaxis\":{\"anchor\":\"x\",\"domain\":[0.0,1.0],\"title\":{\"text\":\"Quantidade\"}},\"legend\":{\"tracegroupgap\":0},\"margin\":{\"t\":60},\"barmode\":\"relative\",\"height\":400,\"width\":700,\"title\":{\"font\":{\"size\":20,\"color\":\"black\"},\"text\":\"Percentual de homens e mulheres que possuem MEI no Brasil\",\"y\":0.95,\"x\":0.5,\"xanchor\":\"center\",\"yanchor\":\"top\"}},                        {\"responsive\": true}                    ).then(function(){\n",
       "                            \n",
       "var gd = document.getElementById('7286a963-0b9f-4bac-a814-b881232f572b');\n",
       "var x = new MutationObserver(function (mutations, observer) {{\n",
       "        var display = window.getComputedStyle(gd).display;\n",
       "        if (!display || display === 'none') {{\n",
       "            console.log([gd, 'removed!']);\n",
       "            Plotly.purge(gd);\n",
       "            observer.disconnect();\n",
       "        }}\n",
       "}});\n",
       "\n",
       "// Listen for the removal of the full notebook cells\n",
       "var notebookContainer = gd.closest('#notebook-container');\n",
       "if (notebookContainer) {{\n",
       "    x.observe(notebookContainer, {childList: true});\n",
       "}}\n",
       "\n",
       "// Listen for the clearing of the current output cell\n",
       "var outputEl = gd.closest('.output');\n",
       "if (outputEl) {{\n",
       "    x.observe(outputEl, {childList: true});\n",
       "}}\n",
       "\n",
       "                        })                };                });            </script>        </div>"
      ]
     },
     "metadata": {},
     "output_type": "display_data"
    }
   ],
   "source": [
    "%%time\n",
    "df_uf = df_tel.groupBy('len_tel1').count().orderBy(col('count').desc()).toPandas()\n",
    "\n",
    "fig = px.histogram(df_uf,\n",
    "             x = \"len_tel1\", \n",
    "             y='count',\n",
    "             height = 400, width = 700,\n",
    "             histnorm = 'percent')\n",
    "fig.update_xaxes(title = \"len_tel1\")\n",
    "fig.update_yaxes(title = \"Quantidade\")\n",
    "#fig.show()\n",
    "#py.plot(fig, filename = 'Count pnt', auto_open=True)\n",
    "fig.update_layout(\n",
    "    title={\n",
    "        'text': \"Percentual de homens e mulheres que possuem MEI no Brasil\",\n",
    "        'y':0.95,\n",
    "        'x':0.5,\n",
    "        'xanchor': 'center',\n",
    "        'yanchor': 'top',\n",
    "        'font': {\n",
    "            'size': 20,\n",
    "            'color': 'black'}})\n"
   ]
  },
  {
   "cell_type": "code",
   "execution_count": null,
   "id": "6226cdcf-0031-4a8c-b538-b80e9ade2d71",
   "metadata": {},
   "outputs": [],
   "source": []
  },
  {
   "cell_type": "code",
   "execution_count": null,
   "id": "c5699163-6200-4403-a055-1760a0ee58cf",
   "metadata": {},
   "outputs": [],
   "source": []
  },
  {
   "cell_type": "code",
   "execution_count": null,
   "id": "364db9df-97a4-45cc-81c7-165286872538",
   "metadata": {},
   "outputs": [],
   "source": []
  },
  {
   "cell_type": "code",
   "execution_count": null,
   "id": "277498b6-b94e-4d5e-90e8-a86154828dcd",
   "metadata": {},
   "outputs": [],
   "source": []
  },
  {
   "cell_type": "code",
   "execution_count": null,
   "id": "db3c55dc-8e42-416e-80eb-444166213fbf",
   "metadata": {},
   "outputs": [],
   "source": []
  },
  {
   "cell_type": "code",
   "execution_count": null,
   "id": "83b67256-572f-4259-ad93-aae200560c51",
   "metadata": {},
   "outputs": [],
   "source": []
  },
  {
   "cell_type": "code",
   "execution_count": null,
   "id": "ffdf4742-5677-4418-ad1b-5c828d90cffd",
   "metadata": {},
   "outputs": [],
   "source": []
  }
 ],
 "metadata": {
  "kernelspec": {
   "display_name": "Python 3 (ipykernel)",
   "language": "python",
   "name": "python3"
  },
  "language_info": {
   "codemirror_mode": {
    "name": "ipython",
    "version": 3
   },
   "file_extension": ".py",
   "mimetype": "text/x-python",
   "name": "python",
   "nbconvert_exporter": "python",
   "pygments_lexer": "ipython3",
   "version": "3.10.4"
  }
 },
 "nbformat": 4,
 "nbformat_minor": 5
}
