{
 "cells": [
  {
   "cell_type": "markdown",
   "id": "a52322be-ca0b-4842-ad52-51a9e5798665",
   "metadata": {},
   "source": [
    "# Pacotes"
   ]
  },
  {
   "cell_type": "code",
   "execution_count": 1,
   "id": "1773cc22-7e31-4938-a414-2141f8c9fbd5",
   "metadata": {
    "tags": []
   },
   "outputs": [],
   "source": [
    "from ReceitaCNPJApi import ReceitaCNPJApi\n",
    "from ReceitaLT import ReceitaLT\n",
    "from pyspark.sql import SparkSession\n",
    "import findspark\n",
    "from concurrent.futures import ThreadPoolExecutor"
   ]
  },
  {
   "cell_type": "code",
   "execution_count": 2,
   "id": "e6802e45-ffbf-4647-9067-d29beda37d3b",
   "metadata": {
    "tags": []
   },
   "outputs": [],
   "source": [
    "findspark.init()"
   ]
  },
  {
   "cell_type": "markdown",
   "id": "62df86b8-90e9-4c3b-97ca-9de12436ad20",
   "metadata": {},
   "source": [
    "# Versão"
   ]
  },
  {
   "cell_type": "code",
   "execution_count": 3,
   "id": "59044876-e722-4be3-ae17-702302aad052",
   "metadata": {
    "tags": []
   },
   "outputs": [
    {
     "name": "stdout",
     "output_type": "stream",
     "text": [
      "C:\\Users\\pedro\\Spark\\spark-3.5.0-bin-hadoop3\n",
      "C:\\Users\\pedro\\hadoop\\bin\n",
      "C:\\Program Files\\Java\\jdk1.8.0_202\n"
     ]
    }
   ],
   "source": [
    "import os\n",
    "import sys\n",
    "print(os.environ.get(\"SPARK_HOME\"))\n",
    "print(os.environ.get(\"HADOOP_HOME\"))\n",
    "print(os.environ.get(\"JAVA_HOME\"))\n",
    "os.environ[\"PYARROW_IGNORE_TIMEZONE\"] = \"1\""
   ]
  },
  {
   "cell_type": "markdown",
   "id": "8c66eaa7-fd29-410e-81d0-4b7753ecf4b3",
   "metadata": {},
   "source": [
    "# Spark Session"
   ]
  },
  {
   "cell_type": "code",
   "execution_count": 4,
   "id": "9231d47f-af4c-49a2-a9a6-9cf69f6c35cf",
   "metadata": {
    "tags": []
   },
   "outputs": [],
   "source": [
    "spark = (SparkSession.builder\n",
    "    .master(\"local[*]\")  \n",
    "    .config(\"spark.driver.cores\", \"3\") \n",
    "    .config(\"spark.driver.memory\", \"12g\") \n",
    "    .config(\"spark.default.parallelism\", \"100\") \n",
    "    .config(\"spark.executor.cores\", \"2\")  \n",
    "    .config(\"spark.executor.instances\", \"2\") \n",
    "    .config(\"spark.executor.memory\", \"4g\") \n",
    "    .config(\"spark.memory.fraction\", \"0.8\") \n",
    "    .config(\"spark.memory.storageFraction\", \"0.5\")\n",
    "    .config(\"spark.memory.offHeap.enabled\", \"true\") \n",
    "    .config(\"spark.memory.offHeap.size\", \"2g\")  \n",
    "    .config(\"spark.executor.memoryOverhead\", \"1g\")  \n",
    "    .config('spark.sql.repl.eagerEval.enabled', True)\n",
    "    .config(\"spark.sql.repl.eagerEval.maxNumRows\", 10)\n",
    "    .appName('dataset_cnpj')\n",
    "    .getOrCreate())\n"
   ]
  },
  {
   "cell_type": "markdown",
   "id": "22d13d7c-a134-4140-8fc9-a35c9a7bbf70",
   "metadata": {},
   "source": [
    "# Iniciando as classes"
   ]
  },
  {
   "cell_type": "code",
   "execution_count": 11,
   "id": "ec784ccc-4748-4e29-8da2-68a46f8b363b",
   "metadata": {
    "tags": []
   },
   "outputs": [],
   "source": [
    "# Inicializa a classe sem parâmetros\n",
    "api = ReceitaCNPJApi()\n",
    "\n",
    "\n",
    "receitaLT_processor = ReceitaLT(spark) "
   ]
  },
  {
   "cell_type": "markdown",
   "id": "92683977-8c75-436a-ba16-79078cd01c80",
   "metadata": {},
   "source": [
    "# Urls"
   ]
  },
  {
   "cell_type": "code",
   "execution_count": 12,
   "id": "1e3fdeef-53f9-456a-bf7c-34a075a3f19c",
   "metadata": {
    "tags": []
   },
   "outputs": [],
   "source": [
    "# Especifica o ano e o mês desejados\n",
    "year = 2024\n",
    "month = 9\n",
    "\n",
    "# Gera a lista de URLs para todos os prefixos no período especificado\n",
    "urls = api.lista_urls_receita(year=year, month=month)\n",
    "\n",
    "for url in urls:\n",
    "    print(f\"Result for {url}\")"
   ]
  },
  {
   "cell_type": "code",
   "execution_count": 13,
   "id": "9a85325f-1e17-4896-b9d3-c15094dba614",
   "metadata": {
    "tags": []
   },
   "outputs": [
    {
     "data": {
      "text/plain": [
       "['https://dadosabertos.rfb.gov.br/CNPJ/Estabelecimentos0.zip',\n",
       " 'https://dadosabertos.rfb.gov.br/CNPJ/Estabelecimentos1.zip',\n",
       " 'https://dadosabertos.rfb.gov.br/CNPJ/Estabelecimentos2.zip',\n",
       " 'https://dadosabertos.rfb.gov.br/CNPJ/Estabelecimentos3.zip',\n",
       " 'https://dadosabertos.rfb.gov.br/CNPJ/Estabelecimentos4.zip',\n",
       " 'https://dadosabertos.rfb.gov.br/CNPJ/Estabelecimentos5.zip',\n",
       " 'https://dadosabertos.rfb.gov.br/CNPJ/Estabelecimentos6.zip',\n",
       " 'https://dadosabertos.rfb.gov.br/CNPJ/Estabelecimentos7.zip',\n",
       " 'https://dadosabertos.rfb.gov.br/CNPJ/Estabelecimentos8.zip',\n",
       " 'https://dadosabertos.rfb.gov.br/CNPJ/Estabelecimentos9.zip',\n",
       " 'https://dadosabertos.rfb.gov.br/CNPJ/Municipios.zip',\n",
       " 'https://dadosabertos.rfb.gov.br/CNPJ/Simples.zip',\n",
       " 'https://dadosabertos.rfb.gov.br/CNPJ/Empresas0.zip',\n",
       " 'https://dadosabertos.rfb.gov.br/CNPJ/Empresas1.zip',\n",
       " 'https://dadosabertos.rfb.gov.br/CNPJ/Empresas2.zip',\n",
       " 'https://dadosabertos.rfb.gov.br/CNPJ/Empresas3.zip',\n",
       " 'https://dadosabertos.rfb.gov.br/CNPJ/Empresas4.zip',\n",
       " 'https://dadosabertos.rfb.gov.br/CNPJ/Empresas5.zip',\n",
       " 'https://dadosabertos.rfb.gov.br/CNPJ/Empresas6.zip',\n",
       " 'https://dadosabertos.rfb.gov.br/CNPJ/Empresas7.zip',\n",
       " 'https://dadosabertos.rfb.gov.br/CNPJ/Empresas8.zip',\n",
       " 'https://dadosabertos.rfb.gov.br/CNPJ/Empresas9.zip',\n",
       " 'https://dadosabertos.rfb.gov.br/CNPJ/Cnaes.zip',\n",
       " 'https://dadosabertos.rfb.gov.br/CNPJ/Socios0.zip',\n",
       " 'https://dadosabertos.rfb.gov.br/CNPJ/Socios1.zip',\n",
       " 'https://dadosabertos.rfb.gov.br/CNPJ/Socios2.zip',\n",
       " 'https://dadosabertos.rfb.gov.br/CNPJ/Socios3.zip',\n",
       " 'https://dadosabertos.rfb.gov.br/CNPJ/Socios4.zip',\n",
       " 'https://dadosabertos.rfb.gov.br/CNPJ/Socios5.zip',\n",
       " 'https://dadosabertos.rfb.gov.br/CNPJ/Socios6.zip',\n",
       " 'https://dadosabertos.rfb.gov.br/CNPJ/Socios7.zip',\n",
       " 'https://dadosabertos.rfb.gov.br/CNPJ/Socios8.zip',\n",
       " 'https://dadosabertos.rfb.gov.br/CNPJ/Socios9.zip',\n",
       " 'https://dadosabertos.rfb.gov.br/CNPJ/Naturezas.zip',\n",
       " 'https://dadosabertos.rfb.gov.br/CNPJ/Qualificacoes.zip',\n",
       " 'https://dadosabertos.rfb.gov.br/CNPJ/Paises.zip',\n",
       " 'https://dadosabertos.rfb.gov.br/CNPJ/Motivos.zip']"
      ]
     },
     "execution_count": 13,
     "metadata": {},
     "output_type": "execute_result"
    }
   ],
   "source": [
    "urls"
   ]
  },
  {
   "cell_type": "markdown",
   "id": "13cf26eb-a134-4c45-bf38-783ac689e0b8",
   "metadata": {},
   "source": [
    "# Fazendo download e deszipando os dados"
   ]
  },
  {
   "cell_type": "code",
   "execution_count": 8,
   "id": "a292bc48-36b1-43fd-8303-fe97c192c4b7",
   "metadata": {
    "tags": []
   },
   "outputs": [
    {
     "name": "stderr",
     "output_type": "stream",
     "text": [
      "INFO:ReceitaCNPJApi:Trying to unzip ./temp\\Municipios.zip\n",
      "INFO:ReceitaCNPJApi:File https://dadosabertos.rfb.gov.br/CNPJ/Municipios.zip has been unzipped successfully to ./output\n"
     ]
    },
    {
     "name": "stdout",
     "output_type": "stream",
     "text": [
      "Result for https://dadosabertos.rfb.gov.br/CNPJ/Municipios.zip: Success\n"
     ]
    }
   ],
   "source": [
    "urls = api.lista_urls_receita('Municipios')\n",
    "\n",
    "def process_url(url):\n",
    "    return api.download_and_unzip(url)\n",
    "\n",
    "with ThreadPoolExecutor(max_workers=3) as executor:  # Altere o `max_workers` conforme o número desejado de threads.\n",
    "    results = list(executor.map(process_url, urls))\n",
    "\n",
    "for url, result in zip(urls, results):\n",
    "    print(f\"Result for {url}: {result[1]}\")"
   ]
  },
  {
   "cell_type": "code",
   "execution_count": 9,
   "id": "14cc66f7-e39b-441b-a158-b2a44e9d71e8",
   "metadata": {
    "tags": []
   },
   "outputs": [
    {
     "name": "stderr",
     "output_type": "stream",
     "text": [
      "INFO:ReceitaCNPJApi:Trying to unzip ./temp\\Naturezas.zip\n",
      "INFO:ReceitaCNPJApi:File https://dadosabertos.rfb.gov.br/CNPJ/Naturezas.zip has been unzipped successfully to ./output\n",
      "INFO:ReceitaCNPJApi:Trying to unzip ./temp\\Cnaes.zip\n",
      "INFO:ReceitaCNPJApi:File https://dadosabertos.rfb.gov.br/CNPJ/Cnaes.zip has been unzipped successfully to ./output\n",
      "INFO:ReceitaCNPJApi:Trying to unzip ./temp\\Municipios.zip\n",
      "INFO:ReceitaCNPJApi:File https://dadosabertos.rfb.gov.br/CNPJ/Municipios.zip has been unzipped successfully to ./output\n",
      "INFO:ReceitaCNPJApi:Trying to unzip ./temp\\Qualificacoes.zip\n",
      "INFO:ReceitaCNPJApi:File https://dadosabertos.rfb.gov.br/CNPJ/Qualificacoes.zip has been unzipped successfully to ./output\n",
      "INFO:ReceitaCNPJApi:Trying to unzip ./temp\\Paises.zip\n",
      "INFO:ReceitaCNPJApi:File https://dadosabertos.rfb.gov.br/CNPJ/Paises.zip has been unzipped successfully to ./output\n",
      "INFO:ReceitaCNPJApi:Trying to unzip ./temp\\Motivos.zip\n",
      "INFO:ReceitaCNPJApi:File https://dadosabertos.rfb.gov.br/CNPJ/Motivos.zip has been unzipped successfully to ./output\n"
     ]
    },
    {
     "name": "stdout",
     "output_type": "stream",
     "text": [
      "Result for https://dadosabertos.rfb.gov.br/CNPJ/Municipios.zip: Success\n",
      "Result for https://dadosabertos.rfb.gov.br/CNPJ/Cnaes.zip: Success\n",
      "Result for https://dadosabertos.rfb.gov.br/CNPJ/Naturezas.zip: Success\n",
      "Result for https://dadosabertos.rfb.gov.br/CNPJ/Qualificacoes.zip: Success\n",
      "Result for https://dadosabertos.rfb.gov.br/CNPJ/Paises.zip: Success\n",
      "Result for https://dadosabertos.rfb.gov.br/CNPJ/Motivos.zip: Success\n"
     ]
    }
   ],
   "source": [
    "urls = api.lista_urls_receita('Municipios', 'Cnaes', 'Naturezas', 'Qualificacoes', 'Paises','Motivos')\n",
    "\n",
    "def process_url(url):\n",
    "    return api.download_and_unzip(url)\n",
    "\n",
    "with ThreadPoolExecutor(max_workers=3) as executor:  # Altere o `max_workers` conforme o número desejado de threads.\n",
    "    results = list(executor.map(process_url, urls))\n",
    "\n",
    "for url, result in zip(urls, results):\n",
    "    print(f\"Result for {url}: {result[1]}\")"
   ]
  },
  {
   "cell_type": "code",
   "execution_count": null,
   "id": "e5aa5174-f3b9-4420-81ee-08780fb256ab",
   "metadata": {},
   "outputs": [],
   "source": [
    "urls = api.lista_urls_receita('Empresas')\n",
    "\n",
    "def process_url(url):\n",
    "    return api.download_and_unzip(url)\n",
    "\n",
    "with ThreadPoolExecutor(max_workers=3) as executor:  # Altere o `max_workers` conforme o número desejado de threads.\n",
    "    results = list(executor.map(process_url, urls))\n",
    "\n",
    "for url, result in zip(urls, results):\n",
    "    print(f\"Result for {url}: {result[1]}\")"
   ]
  },
  {
   "cell_type": "markdown",
   "id": "96e963c5-02a8-4449-9cb3-1eaa0840c28f",
   "metadata": {},
   "source": [
    "# Tratando os dados"
   ]
  },
  {
   "cell_type": "markdown",
   "id": "fdbe0222-7097-4b1c-aca1-2966175ff0d7",
   "metadata": {},
   "source": [
    "## Mei"
   ]
  },
  {
   "cell_type": "code",
   "execution_count": 9,
   "id": "f1df6ced-e5b9-4547-b9fe-b4f118f0553a",
   "metadata": {
    "tags": []
   },
   "outputs": [
    {
     "name": "stderr",
     "output_type": "stream",
     "text": [
      "INFO:ReceitaLT:Detected encodings: {'./output\\\\Empresas\\\\Empresas0.csv': 'ascii', './output\\\\Empresas\\\\Empresas1.csv': 'ascii', './output\\\\Empresas\\\\Empresas2.csv': 'ascii', './output\\\\Empresas\\\\Empresas3.csv': 'ascii', './output\\\\Empresas\\\\Empresas4.csv': 'ascii', './output\\\\Empresas\\\\Empresas5.csv': 'ascii', './output\\\\Empresas\\\\Empresas6.csv': 'ascii', './output\\\\Empresas\\\\Empresas7.csv': 'ascii', './output\\\\Empresas\\\\Empresas8.csv': 'ascii', './output\\\\Empresas\\\\Empresas9.csv': 'ascii'}\n",
      "INFO:ReceitaLT:Detected encodings: {'./output\\\\Naturezas\\\\Naturezas.csv': 'ISO-8859-1'}\n",
      "INFO:ReceitaLT:Detected encodings: {'./output\\\\Qualificacoes\\\\Qualificacoes.csv': 'ISO-8859-1'}\n"
     ]
    }
   ],
   "source": [
    "df = receitaLT_processor.read_data(schema_name='empresas').cache()\n",
    "df_mei = receitaLT_processor.process_mei(df)"
   ]
  },
  {
   "cell_type": "code",
   "execution_count": 10,
   "id": "7cf5444c-b7c1-4182-b962-f35729414b8b",
   "metadata": {
    "tags": []
   },
   "outputs": [
    {
     "data": {
      "text/html": [
       "<table border='1'>\n",
       "<tr><th>CNPJ</th><th>NOME_EMPRESA</th><th>CAP_SOCIAL</th><th>NM_PORTE</th><th>NAT_JURICA</th><th>ENTE_FEDERATIVO</th><th>NM_QUALIFICACAO</th><th>CPF_CRIPTOGRAFADO</th><th>CPF_LEN</th><th>PROBABILIDADE_DE_SER_CPF</th><th>PRIMEIRO_NOME</th><th>GRUPO_NOME</th><th>PROBABILIDADE_CLASSIFICACAO</th><th>CLASSIFICACAO</th></tr>\n",
       "<tr><td>29201616</td><td>RODRIGO DOS SANTO...</td><td>2000,00</td><td>MICRO EMPRESA</td><td>Empres&aacute;rio (Indiv...</td><td>NULL</td><td>Empres&aacute;rio</td><td>++/LgNYWe8RDKwe9k...</td><td>11</td><td>SIM</td><td>RODRIGO</td><td>RODRIGO</td><td>1.0</td><td>M</td></tr>\n",
       "<tr><td>44987059</td><td>BRUNA RENATA RAMO...</td><td>1000,00</td><td>MICRO EMPRESA</td><td>Empres&aacute;rio (Indiv...</td><td>NULL</td><td>Empres&aacute;rio</td><td>++1BgII0vOHoFtTZ2...</td><td>11</td><td>SIM</td><td>BRUNA</td><td>BRUNA</td><td>1.0</td><td>F</td></tr>\n",
       "<tr><td>31406636</td><td>REGIANE FERREIRA ...</td><td>5000,00</td><td>MICRO EMPRESA</td><td>Empres&aacute;rio (Indiv...</td><td>NULL</td><td>Empres&aacute;rio</td><td>++3FssKAaBIsSLC94...</td><td>11</td><td>SIM</td><td>REGIANE</td><td>REGIANE</td><td>1.0</td><td>F</td></tr>\n",
       "<tr><td>30385632</td><td>CRISTIANO RESCHKE...</td><td>1500,00</td><td>MICRO EMPRESA</td><td>Empres&aacute;rio (Indiv...</td><td>NULL</td><td>Empres&aacute;rio</td><td>++46AddwPMIi8CgPH...</td><td>11</td><td>SIM</td><td>CRISTIANO</td><td>CRISTIANO</td><td>1.0</td><td>M</td></tr>\n",
       "<tr><td>47505583</td><td>LAURA COELHO ASCA...</td><td>1000,00</td><td>MICRO EMPRESA</td><td>Empres&aacute;rio (Indiv...</td><td>NULL</td><td>Empres&aacute;rio</td><td>++5g/yiFFi1aPYdza...</td><td>11</td><td>SIM</td><td>LAURA</td><td>LAURA</td><td>1.0</td><td>F</td></tr>\n",
       "<tr><td>23159295</td><td>FRANCISCO CLEITON...</td><td>3000,00</td><td>MICRO EMPRESA</td><td>Empres&aacute;rio (Indiv...</td><td>NULL</td><td>Empres&aacute;rio</td><td>++7d3A7ET98/LPyME...</td><td>11</td><td>SIM</td><td>FRANCISCO</td><td>FRANCISCO</td><td>1.0</td><td>M</td></tr>\n",
       "<tr><td>23869732</td><td>RAFAEL BARBACOVI ...</td><td>3000,00</td><td>MICRO EMPRESA</td><td>Empres&aacute;rio (Indiv...</td><td>NULL</td><td>Empres&aacute;rio</td><td>++7ygM/2K4OW8ti+8...</td><td>11</td><td>SIM</td><td>RAFAEL</td><td>RAFAEL</td><td>1.0</td><td>M</td></tr>\n",
       "<tr><td>39831429</td><td>JOYCE VANDERLEI D...</td><td>7000,00</td><td>MICRO EMPRESA</td><td>Empres&aacute;rio (Indiv...</td><td>NULL</td><td>Empres&aacute;rio</td><td>++8/mR6L01msS+vev...</td><td>11</td><td>SIM</td><td>JOYCE</td><td>JOICE</td><td>1.0</td><td>F</td></tr>\n",
       "<tr><td>42812567</td><td>ROMENILDO DA SILV...</td><td>2000,00</td><td>MICRO EMPRESA</td><td>Empres&aacute;rio (Indiv...</td><td>NULL</td><td>Empres&aacute;rio</td><td>++8FxhR+0NQFwi4Ah...</td><td>11</td><td>SIM</td><td>ROMENILDO</td><td>ROMENILDO</td><td>1.0</td><td>M</td></tr>\n",
       "<tr><td>39448828</td><td>CAROLAINY DA SILV...</td><td>11000,00</td><td>MICRO EMPRESA</td><td>Empres&aacute;rio (Indiv...</td><td>NULL</td><td>Empres&aacute;rio</td><td>++92x4mRPEjquT9z+...</td><td>11</td><td>SIM</td><td>CAROLAINY</td><td>KAROLAINY</td><td>1.0</td><td>F</td></tr>\n",
       "</table>\n",
       "only showing top 10 rows\n"
      ],
      "text/plain": [
       "+--------+--------------------+----------+-------------+--------------------+---------------+---------------+--------------------+-------+------------------------+-------------+----------+---------------------------+-------------+\n",
       "|    CNPJ|        NOME_EMPRESA|CAP_SOCIAL|     NM_PORTE|          NAT_JURICA|ENTE_FEDERATIVO|NM_QUALIFICACAO|   CPF_CRIPTOGRAFADO|CPF_LEN|PROBABILIDADE_DE_SER_CPF|PRIMEIRO_NOME|GRUPO_NOME|PROBABILIDADE_CLASSIFICACAO|CLASSIFICACAO|\n",
       "+--------+--------------------+----------+-------------+--------------------+---------------+---------------+--------------------+-------+------------------------+-------------+----------+---------------------------+-------------+\n",
       "|29201616|RODRIGO DOS SANTO...|   2000,00|MICRO EMPRESA|Empresário (Indiv...|           NULL|     Empresário|++/LgNYWe8RDKwe9k...|     11|                     SIM|      RODRIGO|   RODRIGO|                        1.0|            M|\n",
       "|44987059|BRUNA RENATA RAMO...|   1000,00|MICRO EMPRESA|Empresário (Indiv...|           NULL|     Empresário|++1BgII0vOHoFtTZ2...|     11|                     SIM|        BRUNA|     BRUNA|                        1.0|            F|\n",
       "|31406636|REGIANE FERREIRA ...|   5000,00|MICRO EMPRESA|Empresário (Indiv...|           NULL|     Empresário|++3FssKAaBIsSLC94...|     11|                     SIM|      REGIANE|   REGIANE|                        1.0|            F|\n",
       "|30385632|CRISTIANO RESCHKE...|   1500,00|MICRO EMPRESA|Empresário (Indiv...|           NULL|     Empresário|++46AddwPMIi8CgPH...|     11|                     SIM|    CRISTIANO| CRISTIANO|                        1.0|            M|\n",
       "|47505583|LAURA COELHO ASCA...|   1000,00|MICRO EMPRESA|Empresário (Indiv...|           NULL|     Empresário|++5g/yiFFi1aPYdza...|     11|                     SIM|        LAURA|     LAURA|                        1.0|            F|\n",
       "|23159295|FRANCISCO CLEITON...|   3000,00|MICRO EMPRESA|Empresário (Indiv...|           NULL|     Empresário|++7d3A7ET98/LPyME...|     11|                     SIM|    FRANCISCO| FRANCISCO|                        1.0|            M|\n",
       "|23869732|RAFAEL BARBACOVI ...|   3000,00|MICRO EMPRESA|Empresário (Indiv...|           NULL|     Empresário|++7ygM/2K4OW8ti+8...|     11|                     SIM|       RAFAEL|    RAFAEL|                        1.0|            M|\n",
       "|39831429|JOYCE VANDERLEI D...|   7000,00|MICRO EMPRESA|Empresário (Indiv...|           NULL|     Empresário|++8/mR6L01msS+vev...|     11|                     SIM|        JOYCE|     JOICE|                        1.0|            F|\n",
       "|42812567|ROMENILDO DA SILV...|   2000,00|MICRO EMPRESA|Empresário (Indiv...|           NULL|     Empresário|++8FxhR+0NQFwi4Ah...|     11|                     SIM|    ROMENILDO| ROMENILDO|                        1.0|            M|\n",
       "|39448828|CAROLAINY DA SILV...|  11000,00|MICRO EMPRESA|Empresário (Indiv...|           NULL|     Empresário|++92x4mRPEjquT9z+...|     11|                     SIM|    CAROLAINY| KAROLAINY|                        1.0|            F|\n",
       "+--------+--------------------+----------+-------------+--------------------+---------------+---------------+--------------------+-------+------------------------+-------------+----------+---------------------------+-------------+\n",
       "only showing top 10 rows"
      ]
     },
     "execution_count": 10,
     "metadata": {},
     "output_type": "execute_result"
    }
   ],
   "source": [
    "df_mei"
   ]
  },
  {
   "cell_type": "markdown",
   "id": "afaf6504-b2fc-43a8-8d18-9966b4245327",
   "metadata": {},
   "source": [
    "## Empresas"
   ]
  },
  {
   "cell_type": "code",
   "execution_count": 8,
   "id": "0535fc22-51a9-4d62-8f0f-c65912169182",
   "metadata": {},
   "outputs": [
    {
     "name": "stderr",
     "output_type": "stream",
     "text": [
      "INFO:ReceitaLT:Detected encodings: {'./output\\\\Empresas\\\\Empresas0.csv': 'ascii', './output\\\\Empresas\\\\Empresas1.csv': 'ascii', './output\\\\Empresas\\\\Empresas2.csv': 'ascii', './output\\\\Empresas\\\\Empresas3.csv': 'ascii', './output\\\\Empresas\\\\Empresas4.csv': 'ascii', './output\\\\Empresas\\\\Empresas5.csv': 'ascii', './output\\\\Empresas\\\\Empresas6.csv': 'ascii', './output\\\\Empresas\\\\Empresas7.csv': 'ascii', './output\\\\Empresas\\\\Empresas8.csv': 'ascii', './output\\\\Empresas\\\\Empresas9.csv': 'ascii'}\n",
      "INFO:ReceitaLT:Detected encodings: {'./output\\\\Naturezas\\\\Naturezas.csv': 'ISO-8859-1'}\n",
      "INFO:ReceitaLT:Detected encodings: {'./output\\\\Qualificacoes\\\\Qualificacoes.csv': 'ISO-8859-1'}\n"
     ]
    }
   ],
   "source": [
    "df = receitaLT_processor.read_data(schema_name='empresas').cache()\n",
    "df_empresas = receitaLT_processor.process_empresas(df)"
   ]
  },
  {
   "cell_type": "code",
   "execution_count": 9,
   "id": "3ac9bc95-08c8-4276-81d4-fe88d322ad6f",
   "metadata": {
    "tags": []
   },
   "outputs": [
    {
     "data": {
      "text/html": [
       "<table border='1'>\n",
       "<tr><th>CNPJ</th><th>NOME_EMPRESA</th><th>CAP_SOCIAL</th><th>PORTE</th><th>ENTE_FEDERATIVO</th><th>NAT_JURICA</th><th>NM_QUALIFICACAO</th><th>CPF_LEN</th><th>NM_PORTE</th><th>PROBABILIDADE_DE_SER_CPF</th><th>CPF_CRIPTOGRAFADO</th></tr>\n",
       "<tr><td>41273594</td><td>OZINETE DELFINO C...</td><td>5000,00</td><td>01</td><td>NULL</td><td>Empres&aacute;rio (Indiv...</td><td>Empres&aacute;rio</td><td>11</td><td>MICRO EMPRESA</td><td>SIM</td><td>ofSDJMxzFJmcZwyhp...</td></tr>\n",
       "<tr><td>41273595</td><td>GILVAN PEREIRA XA...</td><td>3000,00</td><td>01</td><td>NULL</td><td>Empres&aacute;rio (Indiv...</td><td>Empres&aacute;rio</td><td>11</td><td>MICRO EMPRESA</td><td>SIM</td><td>sFsVa2XgMuJ0DjZNq...</td></tr>\n",
       "<tr><td>41273596</td><td>RODRIGO JOSE FERR...</td><td>10000,00</td><td>01</td><td>NULL</td><td>Empres&aacute;rio (Indiv...</td><td>Empres&aacute;rio</td><td>11</td><td>MICRO EMPRESA</td><td>SIM</td><td>aTEqRIRVZWuRTLVpp...</td></tr>\n",
       "<tr><td>41273597</td><td>PACHARRUS QUEIROZ...</td><td>5000,00</td><td>01</td><td>NULL</td><td>Empres&aacute;rio (Indiv...</td><td>Empres&aacute;rio</td><td>11</td><td>MICRO EMPRESA</td><td>SIM</td><td>kiu64La6RmA/tAPsY...</td></tr>\n",
       "<tr><td>41273598</td><td>GLORIA VIANA DIAS...</td><td>1100,00</td><td>01</td><td>NULL</td><td>Empres&aacute;rio (Indiv...</td><td>Empres&aacute;rio</td><td>11</td><td>MICRO EMPRESA</td><td>SIM</td><td>5LN2FYYUvhVwystje...</td></tr>\n",
       "<tr><td>41273599</td><td>ANA PAULA DA SILV...</td><td>2000,00</td><td>01</td><td>NULL</td><td>Empres&aacute;rio (Indiv...</td><td>Empres&aacute;rio</td><td>11</td><td>MICRO EMPRESA</td><td>SIM</td><td>mO0mdj45h5xVP6Oww...</td></tr>\n",
       "<tr><td>41273600</td><td>41.273.600 AVANIL...</td><td>50000,00</td><td>01</td><td>NULL</td><td>Empres&aacute;rio (Indiv...</td><td>Empres&aacute;rio</td><td>8</td><td>MICRO EMPRESA</td><td>NAO</td><td>oumbtiBmufuRKKx+N...</td></tr>\n",
       "<tr><td>41273601</td><td>GABRIELA HELENA F...</td><td>2000,00</td><td>01</td><td>NULL</td><td>Empres&aacute;rio (Indiv...</td><td>Empres&aacute;rio</td><td>11</td><td>MICRO EMPRESA</td><td>SIM</td><td>Bn/aCXZL4XWDRjZxZ...</td></tr>\n",
       "<tr><td>41273602</td><td>FABIO SOUZA DO RO...</td><td>15000,00</td><td>01</td><td>NULL</td><td>Empres&aacute;rio (Indiv...</td><td>Empres&aacute;rio</td><td>11</td><td>MICRO EMPRESA</td><td>SIM</td><td>f9QFmB03K99JUQpeg...</td></tr>\n",
       "<tr><td>41273603</td><td>GRAFLINE ACESSORI...</td><td>10000,00</td><td>01</td><td>NULL</td><td>Sociedade Empres&aacute;...</td><td>S&oacute;cio-Administrador</td><td>NULL</td><td>MICRO EMPRESA</td><td>NAO</td><td>NULL</td></tr>\n",
       "</table>\n",
       "only showing top 10 rows\n"
      ],
      "text/plain": [
       "+--------+--------------------+----------+-----+---------------+--------------------+-------------------+-------+-------------+------------------------+--------------------+\n",
       "|    CNPJ|        NOME_EMPRESA|CAP_SOCIAL|PORTE|ENTE_FEDERATIVO|          NAT_JURICA|    NM_QUALIFICACAO|CPF_LEN|     NM_PORTE|PROBABILIDADE_DE_SER_CPF|   CPF_CRIPTOGRAFADO|\n",
       "+--------+--------------------+----------+-----+---------------+--------------------+-------------------+-------+-------------+------------------------+--------------------+\n",
       "|41273594|OZINETE DELFINO C...|   5000,00|   01|           NULL|Empresário (Indiv...|         Empresário|     11|MICRO EMPRESA|                     SIM|ofSDJMxzFJmcZwyhp...|\n",
       "|41273595|GILVAN PEREIRA XA...|   3000,00|   01|           NULL|Empresário (Indiv...|         Empresário|     11|MICRO EMPRESA|                     SIM|sFsVa2XgMuJ0DjZNq...|\n",
       "|41273596|RODRIGO JOSE FERR...|  10000,00|   01|           NULL|Empresário (Indiv...|         Empresário|     11|MICRO EMPRESA|                     SIM|aTEqRIRVZWuRTLVpp...|\n",
       "|41273597|PACHARRUS QUEIROZ...|   5000,00|   01|           NULL|Empresário (Indiv...|         Empresário|     11|MICRO EMPRESA|                     SIM|kiu64La6RmA/tAPsY...|\n",
       "|41273598|GLORIA VIANA DIAS...|   1100,00|   01|           NULL|Empresário (Indiv...|         Empresário|     11|MICRO EMPRESA|                     SIM|5LN2FYYUvhVwystje...|\n",
       "|41273599|ANA PAULA DA SILV...|   2000,00|   01|           NULL|Empresário (Indiv...|         Empresário|     11|MICRO EMPRESA|                     SIM|mO0mdj45h5xVP6Oww...|\n",
       "|41273600|41.273.600 AVANIL...|  50000,00|   01|           NULL|Empresário (Indiv...|         Empresário|      8|MICRO EMPRESA|                     NAO|oumbtiBmufuRKKx+N...|\n",
       "|41273601|GABRIELA HELENA F...|   2000,00|   01|           NULL|Empresário (Indiv...|         Empresário|     11|MICRO EMPRESA|                     SIM|Bn/aCXZL4XWDRjZxZ...|\n",
       "|41273602|FABIO SOUZA DO RO...|  15000,00|   01|           NULL|Empresário (Indiv...|         Empresário|     11|MICRO EMPRESA|                     SIM|f9QFmB03K99JUQpeg...|\n",
       "|41273603|GRAFLINE ACESSORI...|  10000,00|   01|           NULL|Sociedade Empresá...|Sócio-Administrador|   NULL|MICRO EMPRESA|                     NAO|                NULL|\n",
       "+--------+--------------------+----------+-----+---------------+--------------------+-------------------+-------+-------------+------------------------+--------------------+\n",
       "only showing top 10 rows"
      ]
     },
     "execution_count": 9,
     "metadata": {},
     "output_type": "execute_result"
    }
   ],
   "source": [
    "df_empresas"
   ]
  },
  {
   "cell_type": "markdown",
   "id": "2615ed4e-7806-49c8-8255-4323b00128db",
   "metadata": {},
   "source": [
    "# Estabelecimentos"
   ]
  },
  {
   "cell_type": "code",
   "execution_count": 5,
   "id": "4ddd9c96-0fd0-4f50-ab62-f32ac7cce012",
   "metadata": {
    "tags": []
   },
   "outputs": [
    {
     "name": "stderr",
     "output_type": "stream",
     "text": [
      "INFO:ReceitaLT:Detected encodings: {'./output\\\\Estabelecimentos\\\\Estabelecimentos.csv': 'ascii', './output\\\\Estabelecimentos\\\\Estabelecimentos0.csv': 'ascii', './output\\\\Estabelecimentos\\\\Estabelecimentos1.csv': 'ascii', './output\\\\Estabelecimentos\\\\Estabelecimentos2.csv': 'ascii', './output\\\\Estabelecimentos\\\\Estabelecimentos3.csv': 'ascii', './output\\\\Estabelecimentos\\\\Estabelecimentos4.csv': 'ascii', './output\\\\Estabelecimentos\\\\Estabelecimentos5.csv': 'ascii', './output\\\\Estabelecimentos\\\\Estabelecimentos6.csv': 'ascii', './output\\\\Estabelecimentos\\\\Estabelecimentos7.csv': 'ascii', './output\\\\Estabelecimentos\\\\Estabelecimentos8.csv': 'ascii', './output\\\\Estabelecimentos\\\\Estabelecimentos9.csv': 'ISO-8859-1'}\n"
     ]
    }
   ],
   "source": [
    "df = receitaLT_processor.read_data(schema_name='estabelecimentos').cache()"
   ]
  },
  {
   "cell_type": "code",
   "execution_count": 6,
   "id": "0701b9ea-abbe-4cbc-8ebe-5ae8b8896ed2",
   "metadata": {
    "tags": []
   },
   "outputs": [
    {
     "data": {
      "text/html": [
       "<table border='1'>\n",
       "<tr><th>CNPJ_BASICO</th><th>CNPJ_ORDEM</th><th>CNPJ_DV</th><th>MATRIZ_FILIAL</th><th>NOME_FANTASIA</th><th>SIT_CADASTRAL</th><th>DT_SIT_CADASTRAL</th><th>MOTIVO_CADASTRAL</th><th>NOME_CIDADE_EXTERIOR</th><th>PAIS</th><th>DT_INICIO_ATIVIDADE</th><th>CNAE_1</th><th>CNAE_2</th><th>TIPO_LOUGRADOURO</th><th>LOGRADOURO</th><th>NUMERO</th><th>COMPLEMENTO</th><th>BAIRRO</th><th>CEP</th><th>UF</th><th>MUNICIPIO</th><th>DDD1</th><th>TEL1</th><th>DDD2</th><th>TEL2</th><th>DDD_FAX</th><th>FAX</th><th>EMAIL</th><th>SIT_ESPECIAL</th><th>DT_SIT_ESPECIAL</th></tr>\n",
       "<tr><td>19551234</td><td>0001</td><td>55</td><td>1</td><td>NULL</td><td>8</td><td>20140424</td><td>01</td><td>NULL</td><td>NULL</td><td>20140120</td><td>9602502</td><td>NULL</td><td>RUA</td><td>PRINCIPAL 2</td><td>10</td><td>NULL</td><td>PEDRO ROSENO</td><td>69917650</td><td>AC</td><td>0139</td><td>68</td><td>99819198</td><td>NULL</td><td>NULL</td><td>NULL</td><td>NULL</td><td>NULL</td><td>NULL</td><td>NULL</td></tr>\n",
       "<tr><td>19551248</td><td>0001</td><td>79</td><td>1</td><td>L NUNES MANUTENCOES</td><td>8</td><td>20180201</td><td>67</td><td>NULL</td><td>NULL</td><td>20140120</td><td>4330404</td><td>4322301,4321500,4...</td><td>RUA</td><td>PROFESSORA MYRIAM...</td><td>78</td><td>NULL</td><td>JARDIM RESIDENCIA...</td><td>12422490</td><td>SP</td><td>6861</td><td>12</td><td>35276011</td><td>NULL</td><td>NULL</td><td>NULL</td><td>NULL</td><td>NULL</td><td>NULL</td><td>NULL</td></tr>\n",
       "<tr><td>19551261</td><td>0001</td><td>28</td><td>1</td><td>TATY BABY</td><td>8</td><td>20160303</td><td>01</td><td>NULL</td><td>NULL</td><td>20140120</td><td>4781400</td><td>4755503,4755502,4...</td><td>AVENIDA</td><td>JOAO RIBEIRO</td><td>NULL</td><td>NULL</td><td>DISTRITO CASA DE ...</td><td>68565973</td><td>PA</td><td>0599</td><td>94</td><td>33191373</td><td>NULL</td><td>NULL</td><td>NULL</td><td>NULL</td><td>sandra-amaral2010...</td><td>NULL</td><td>NULL</td></tr>\n",
       "<tr><td>17239220</td><td>0001</td><td>75</td><td>1</td><td>NULL</td><td>4</td><td>20210409</td><td>63</td><td>NULL</td><td>NULL</td><td>20121130</td><td>4120400</td><td>2599301,4213800,4...</td><td>RUA</td><td>CAPITAO MANUEL DE...</td><td>217</td><td>NULL</td><td>CORDEIRO</td><td>50640230</td><td>PE</td><td>2531</td><td>81</td><td>32270376</td><td>NULL</td><td>NULL</td><td>NULL</td><td>NULL</td><td>ATLANTICOSCONTABI...</td><td>NULL</td><td>NULL</td></tr>\n",
       "<tr><td>19551285</td><td>0001</td><td>87</td><td>1</td><td>ABREU DESIGNER DECOR</td><td>2</td><td>20140120</td><td>00</td><td>NULL</td><td>NULL</td><td>20140120</td><td>4789002</td><td>8230001</td><td>AVENIDA</td><td>BELO HORIZONTE</td><td>2761</td><td>QUADRA 099/A;LOTE...</td><td>CIDADE PRIMAVERA II</td><td>78850000</td><td>MT</td><td>9871</td><td>66</td><td>96563658</td><td>NULL</td><td>NULL</td><td>NULL</td><td>NULL</td><td>DAYRON.SA@GMAIL.COM</td><td>NULL</td><td>NULL</td></tr>\n",
       "<tr><td>19551295</td><td>0001</td><td>12</td><td>1</td><td>LEILANE BRITO DES...</td><td>8</td><td>20140410</td><td>01</td><td>NULL</td><td>NULL</td><td>20140120</td><td>4789099</td><td>NULL</td><td>RUA</td><td>CAPITAO AFRODIZIO...</td><td>367</td><td>NULL</td><td>CENTRO</td><td>63475000</td><td>CE</td><td>1439</td><td>88</td><td>35221576</td><td>NULL</td><td>NULL</td><td>NULL</td><td>NULL</td><td>LEILA.NI.M@HOTMAI...</td><td>NULL</td><td>NULL</td></tr>\n",
       "<tr><td>19551306</td><td>0001</td><td>64</td><td>1</td><td>NULL</td><td>2</td><td>20140120</td><td>00</td><td>NULL</td><td>NULL</td><td>20140120</td><td>4330404</td><td>NULL</td><td>RUA</td><td>MANOEL PAULO</td><td>149</td><td>NULL</td><td>LOMANTO JUNIOR</td><td>45601150</td><td>BA</td><td>3597</td><td>73</td><td>88174188</td><td>NULL</td><td>NULL</td><td>NULL</td><td>NULL</td><td>NULL</td><td>NULL</td><td>NULL</td></tr>\n",
       "<tr><td>19551319</td><td>0001</td><td>33</td><td>1</td><td>NULL</td><td>8</td><td>20180201</td><td>67</td><td>NULL</td><td>NULL</td><td>20140120</td><td>4399103</td><td>NULL</td><td>RUA</td><td>ANTONIO ADAIL DA ...</td><td>206</td><td>NULL</td><td>TRIANGULO</td><td>63041040</td><td>CE</td><td>1447</td><td>88</td><td>88676903</td><td>NULL</td><td>NULL</td><td>NULL</td><td>NULL</td><td>NULL</td><td>NULL</td><td>NULL</td></tr>\n",
       "<tr><td>19551329</td><td>0001</td><td>79</td><td>1</td><td>ELIANA LILIA</td><td>8</td><td>20150324</td><td>01</td><td>NULL</td><td>NULL</td><td>20140120</td><td>4781400</td><td>NULL</td><td>PRACA</td><td>JOAO PAULO</td><td>1740</td><td>CASA</td><td>BARROS FILHO</td><td>21512250</td><td>RJ</td><td>6001</td><td>21</td><td>32524652</td><td>NULL</td><td>NULL</td><td>NULL</td><td>NULL</td><td>elianalilia@gmail...</td><td>NULL</td><td>NULL</td></tr>\n",
       "<tr><td>19551342</td><td>0001</td><td>28</td><td>1</td><td>BORRACHARIA DO AS...</td><td>8</td><td>20180425</td><td>01</td><td>NULL</td><td>NULL</td><td>20140120</td><td>4520006</td><td>4530705</td><td>AVENIDA</td><td>BRASIL</td><td>992</td><td>NULL</td><td>SANTA EUGENIA</td><td>35590000</td><td>MG</td><td>4743</td><td>37</td><td>91403555</td><td>NULL</td><td>NULL</td><td>NULL</td><td>NULL</td><td>brasital10@gmail.com</td><td>NULL</td><td>NULL</td></tr>\n",
       "</table>\n",
       "only showing top 10 rows\n"
      ],
      "text/plain": [
       "+-----------+----------+-------+-------------+--------------------+-------------+----------------+----------------+--------------------+----+-------------------+-------+--------------------+----------------+--------------------+------+--------------------+--------------------+--------+---+---------+----+--------+----+----+-------+----+--------------------+------------+---------------+\n",
       "|CNPJ_BASICO|CNPJ_ORDEM|CNPJ_DV|MATRIZ_FILIAL|       NOME_FANTASIA|SIT_CADASTRAL|DT_SIT_CADASTRAL|MOTIVO_CADASTRAL|NOME_CIDADE_EXTERIOR|PAIS|DT_INICIO_ATIVIDADE| CNAE_1|              CNAE_2|TIPO_LOUGRADOURO|          LOGRADOURO|NUMERO|         COMPLEMENTO|              BAIRRO|     CEP| UF|MUNICIPIO|DDD1|    TEL1|DDD2|TEL2|DDD_FAX| FAX|               EMAIL|SIT_ESPECIAL|DT_SIT_ESPECIAL|\n",
       "+-----------+----------+-------+-------------+--------------------+-------------+----------------+----------------+--------------------+----+-------------------+-------+--------------------+----------------+--------------------+------+--------------------+--------------------+--------+---+---------+----+--------+----+----+-------+----+--------------------+------------+---------------+\n",
       "|   19551234|      0001|     55|            1|                NULL|            8|        20140424|              01|                NULL|NULL|           20140120|9602502|                NULL|             RUA|         PRINCIPAL 2|    10|                NULL|        PEDRO ROSENO|69917650| AC|     0139|  68|99819198|NULL|NULL|   NULL|NULL|                NULL|        NULL|           NULL|\n",
       "|   19551248|      0001|     79|            1| L NUNES MANUTENCOES|            8|        20180201|              67|                NULL|NULL|           20140120|4330404|4322301,4321500,4...|             RUA|PROFESSORA MYRIAM...|    78|                NULL|JARDIM RESIDENCIA...|12422490| SP|     6861|  12|35276011|NULL|NULL|   NULL|NULL|                NULL|        NULL|           NULL|\n",
       "|   19551261|      0001|     28|            1|           TATY BABY|            8|        20160303|              01|                NULL|NULL|           20140120|4781400|4755503,4755502,4...|         AVENIDA|        JOAO RIBEIRO|  NULL|                NULL|DISTRITO CASA DE ...|68565973| PA|     0599|  94|33191373|NULL|NULL|   NULL|NULL|sandra-amaral2010...|        NULL|           NULL|\n",
       "|   17239220|      0001|     75|            1|                NULL|            4|        20210409|              63|                NULL|NULL|           20121130|4120400|2599301,4213800,4...|             RUA|CAPITAO MANUEL DE...|   217|                NULL|            CORDEIRO|50640230| PE|     2531|  81|32270376|NULL|NULL|   NULL|NULL|ATLANTICOSCONTABI...|        NULL|           NULL|\n",
       "|   19551285|      0001|     87|            1|ABREU DESIGNER DECOR|            2|        20140120|              00|                NULL|NULL|           20140120|4789002|             8230001|         AVENIDA|      BELO HORIZONTE|  2761|QUADRA 099/A;LOTE...| CIDADE PRIMAVERA II|78850000| MT|     9871|  66|96563658|NULL|NULL|   NULL|NULL| DAYRON.SA@GMAIL.COM|        NULL|           NULL|\n",
       "|   19551295|      0001|     12|            1|LEILANE BRITO DES...|            8|        20140410|              01|                NULL|NULL|           20140120|4789099|                NULL|             RUA|CAPITAO AFRODIZIO...|   367|                NULL|              CENTRO|63475000| CE|     1439|  88|35221576|NULL|NULL|   NULL|NULL|LEILA.NI.M@HOTMAI...|        NULL|           NULL|\n",
       "|   19551306|      0001|     64|            1|                NULL|            2|        20140120|              00|                NULL|NULL|           20140120|4330404|                NULL|             RUA|        MANOEL PAULO|   149|                NULL|      LOMANTO JUNIOR|45601150| BA|     3597|  73|88174188|NULL|NULL|   NULL|NULL|                NULL|        NULL|           NULL|\n",
       "|   19551319|      0001|     33|            1|                NULL|            8|        20180201|              67|                NULL|NULL|           20140120|4399103|                NULL|             RUA|ANTONIO ADAIL DA ...|   206|                NULL|           TRIANGULO|63041040| CE|     1447|  88|88676903|NULL|NULL|   NULL|NULL|                NULL|        NULL|           NULL|\n",
       "|   19551329|      0001|     79|            1|        ELIANA LILIA|            8|        20150324|              01|                NULL|NULL|           20140120|4781400|                NULL|           PRACA|          JOAO PAULO|  1740|                CASA|        BARROS FILHO|21512250| RJ|     6001|  21|32524652|NULL|NULL|   NULL|NULL|elianalilia@gmail...|        NULL|           NULL|\n",
       "|   19551342|      0001|     28|            1|BORRACHARIA DO AS...|            8|        20180425|              01|                NULL|NULL|           20140120|4520006|             4530705|         AVENIDA|              BRASIL|   992|                NULL|       SANTA EUGENIA|35590000| MG|     4743|  37|91403555|NULL|NULL|   NULL|NULL|brasital10@gmail.com|        NULL|           NULL|\n",
       "+-----------+----------+-------+-------------+--------------------+-------------+----------------+----------------+--------------------+----+-------------------+-------+--------------------+----------------+--------------------+------+--------------------+--------------------+--------+---+---------+----+--------+----+----+-------+----+--------------------+------------+---------------+\n",
       "only showing top 10 rows"
      ]
     },
     "execution_count": 6,
     "metadata": {},
     "output_type": "execute_result"
    }
   ],
   "source": [
    "df"
   ]
  },
  {
   "cell_type": "code",
   "execution_count": 7,
   "id": "e2f60dd7-ddb0-4f4e-a2c6-5f46c3271211",
   "metadata": {
    "tags": []
   },
   "outputs": [
    {
     "name": "stderr",
     "output_type": "stream",
     "text": [
      "INFO:ReceitaLT:Detected encodings: {'./output\\\\Paises\\\\Paises.csv': 'ISO-8859-1'}\n",
      "INFO:ReceitaLT:Detected encodings: {'./output\\\\Municipios\\\\Municipios.csv': 'ascii'}\n",
      "INFO:ReceitaLT:Detected encodings: {'./output\\\\Cnaes\\\\Cnaes.csv': 'ISO-8859-1'}\n",
      "INFO:ReceitaLT:Detected encodings: {'./output\\\\Motivos\\\\Motivos.csv': 'ascii'}\n"
     ]
    }
   ],
   "source": [
    "df_estabelecimentos = receitaLT_processor.process_estabelecimentos(df)"
   ]
  },
  {
   "cell_type": "code",
   "execution_count": 8,
   "id": "4264dcb1-f16f-4d9d-82e8-8e08a681377c",
   "metadata": {},
   "outputs": [
    {
     "data": {
      "text/html": [
       "<table border='1'>\n",
       "<tr><th>CNPJ_BASICO</th><th>CNPJ_ORDEM</th><th>CNPJ_DV</th><th>MATRIZ_FILIAL</th><th>NOME_FANTASIA</th><th>SIT_CADASTRAL</th><th>DT_SIT_CADASTRAL</th><th>NOME_CIDADE_EXTERIOR</th><th>DT_INICIO_ATIVIDADE</th><th>CNAE_2</th><th>TIPO_LOUGRADOURO</th><th>LOGRADOURO</th><th>NUMERO</th><th>COMPLEMENTO</th><th>BAIRRO</th><th>CEP</th><th>UF</th><th>DDD1</th><th>TEL1</th><th>DDD2</th><th>TEL2</th><th>DDD_FAX</th><th>FAX</th><th>EMAIL</th><th>SIT_ESPECIAL</th><th>DT_SIT_ESPECIAL</th><th>NM_MOTIVO</th><th>CNAE</th><th>MUNICIPIO</th><th>NM_PAIS</th><th>PROVEDOR</th><th>ano_cadastro</th><th>mes_cadastro</th><th>ano_sit_cadastral</th><th>mes_sit_cadastral</th><th>NM_SIT_CADASTRAL</th><th>VALILD_EMAIL</th><th>NM_MATRIZ_FILIAL</th><th>ENDERECO_COMPLETO</th><th>COORDENADAS</th></tr>\n",
       "<tr><td>19551234</td><td>0001</td><td>55</td><td>1</td><td>NULL</td><td>8</td><td>2014-04-24</td><td>NULL</td><td>2014-01-20</td><td>NULL</td><td>RUA</td><td>PRINCIPAL 2</td><td>10</td><td>NULL</td><td>PEDRO ROSENO</td><td>69917650</td><td>AC</td><td>68</td><td>99819198</td><td>NULL</td><td>NULL</td><td>NULL</td><td>NULL</td><td>NULL</td><td>NULL</td><td>NULL</td><td>EXTINCAO POR ENCE...</td><td>Atividades de est...</td><td>RIO BRANCO</td><td>NULL</td><td>NULL</td><td>2014</td><td>1</td><td>2014</td><td>4</td><td>BAIXADA</td><td>NULL</td><td>MATRIZ</td><td>RUA PRINCIPAL 2, ...</td><td>{-9.979038, -67.8...</td></tr>\n",
       "<tr><td>19551248</td><td>0001</td><td>79</td><td>1</td><td>L NUNES MANUTENCOES</td><td>8</td><td>2018-02-01</td><td>NULL</td><td>2014-01-20</td><td>4322301,4321500,4...</td><td>RUA</td><td>PROFESSORA MYRIAM...</td><td>78</td><td>NULL</td><td>JARDIM RESIDENCIA...</td><td>12422490</td><td>SP</td><td>12</td><td>35276011</td><td>NULL</td><td>NULL</td><td>NULL</td><td>NULL</td><td>NULL</td><td>NULL</td><td>NULL</td><td>REGISTRO CANCELADO</td><td>Servi&ccedil;os de pintu...</td><td>PINDAMONHANGABA</td><td>NULL</td><td>NULL</td><td>2014</td><td>1</td><td>2018</td><td>2</td><td>BAIXADA</td><td>NULL</td><td>MATRIZ</td><td>RUA PROFESSORA MY...</td><td>{-22.939669, -45....</td></tr>\n",
       "<tr><td>19551261</td><td>0001</td><td>28</td><td>1</td><td>TATY BABY</td><td>8</td><td>2016-03-03</td><td>NULL</td><td>2014-01-20</td><td>4755503,4755502,4...</td><td>AVENIDA</td><td>JOAO RIBEIRO</td><td>NULL</td><td>NULL</td><td>DISTRITO CASA DE ...</td><td>68565973</td><td>PA</td><td>94</td><td>33191373</td><td>NULL</td><td>NULL</td><td>NULL</td><td>NULL</td><td>sandra-amaral2010...</td><td>NULL</td><td>NULL</td><td>EXTINCAO POR ENCE...</td><td>Com&eacute;rcio varejist...</td><td>SANTA MARIA DAS B...</td><td>NULL</td><td>HOTMAIL</td><td>2014</td><td>1</td><td>2016</td><td>3</td><td>BAIXADA</td><td>sandra-amaral2010...</td><td>MATRIZ</td><td>AVENIDA JOAO RIBE...</td><td>{-8.779131, -50.4...</td></tr>\n",
       "<tr><td>17239220</td><td>0001</td><td>75</td><td>1</td><td>NULL</td><td>4</td><td>2021-04-09</td><td>NULL</td><td>2012-11-30</td><td>2599301,4213800,4...</td><td>RUA</td><td>CAPITAO MANUEL DE...</td><td>217</td><td>NULL</td><td>CORDEIRO</td><td>50640230</td><td>PE</td><td>81</td><td>32270376</td><td>NULL</td><td>NULL</td><td>NULL</td><td>NULL</td><td>atlanticoscontabi...</td><td>NULL</td><td>NULL</td><td>OMISSAO DE DECLAR...</td><td>Constru&ccedil;&atilde;o de edi...</td><td>RECIFE</td><td>NULL</td><td>GMAIL</td><td>2012</td><td>11</td><td>2021</td><td>4</td><td>INAPTA</td><td>atlanticoscontabi...</td><td>MATRIZ</td><td>RUA CAPITAO MANUE...</td><td>{-8.059178, -34.9...</td></tr>\n",
       "<tr><td>19551285</td><td>0001</td><td>87</td><td>1</td><td>ABREU DESIGNER DECOR</td><td>2</td><td>2014-01-20</td><td>NULL</td><td>2014-01-20</td><td>8230001</td><td>AVENIDA</td><td>BELO HORIZONTE</td><td>2761</td><td>QUADRA 099/A;LOTE...</td><td>CIDADE PRIMAVERA II</td><td>78850000</td><td>MT</td><td>66</td><td>96563658</td><td>NULL</td><td>NULL</td><td>NULL</td><td>NULL</td><td>dayron.sa@gmail.com</td><td>NULL</td><td>NULL</td><td>SEM MOTIVO</td><td>Com&eacute;rcio varejist...</td><td>PRIMAVERA DO LESTE</td><td>NULL</td><td>GMAIL</td><td>2014</td><td>1</td><td>2014</td><td>1</td><td>ATIVA</td><td>dayron.sa@gmail.com</td><td>MATRIZ</td><td>AVENIDA BELO HORI...</td><td>{-15.536981, -54....</td></tr>\n",
       "<tr><td>19551295</td><td>0001</td><td>12</td><td>1</td><td>LEILANE BRITO DES...</td><td>8</td><td>2014-04-10</td><td>NULL</td><td>2014-01-20</td><td>NULL</td><td>RUA</td><td>CAPITAO AFRODIZIO...</td><td>367</td><td>NULL</td><td>CENTRO</td><td>63475000</td><td>CE</td><td>88</td><td>35221576</td><td>NULL</td><td>NULL</td><td>NULL</td><td>NULL</td><td>leila.ni.m@hotmai...</td><td>NULL</td><td>NULL</td><td>EXTINCAO POR ENCE...</td><td>Com&eacute;rcio varejist...</td><td>JAGUARIBE</td><td>NULL</td><td>HOTMAIL</td><td>2014</td><td>1</td><td>2014</td><td>4</td><td>BAIXADA</td><td>leila.ni.m@hotmai...</td><td>MATRIZ</td><td>RUA CAPITAO AFROD...</td><td>{-5.8932853, -38....</td></tr>\n",
       "<tr><td>19551306</td><td>0001</td><td>64</td><td>1</td><td>NULL</td><td>2</td><td>2014-01-20</td><td>NULL</td><td>2014-01-20</td><td>NULL</td><td>RUA</td><td>MANOEL PAULO</td><td>149</td><td>NULL</td><td>LOMANTO JUNIOR</td><td>45601150</td><td>BA</td><td>73</td><td>88174188</td><td>NULL</td><td>NULL</td><td>NULL</td><td>NULL</td><td>NULL</td><td>NULL</td><td>NULL</td><td>SEM MOTIVO</td><td>Servi&ccedil;os de pintu...</td><td>ITABUNA</td><td>NULL</td><td>NULL</td><td>2014</td><td>1</td><td>2014</td><td>1</td><td>ATIVA</td><td>NULL</td><td>MATRIZ</td><td>RUA MANOEL PAULO,...</td><td>{NULL, NULL}</td></tr>\n",
       "<tr><td>19551319</td><td>0001</td><td>33</td><td>1</td><td>NULL</td><td>8</td><td>2018-02-01</td><td>NULL</td><td>2014-01-20</td><td>NULL</td><td>RUA</td><td>ANTONIO ADAIL DA ...</td><td>206</td><td>NULL</td><td>TRIANGULO</td><td>63041040</td><td>CE</td><td>88</td><td>88676903</td><td>NULL</td><td>NULL</td><td>NULL</td><td>NULL</td><td>NULL</td><td>NULL</td><td>NULL</td><td>REGISTRO CANCELADO</td><td>Obras de alvenaria</td><td>JUAZEIRO DO NORTE</td><td>NULL</td><td>NULL</td><td>2014</td><td>1</td><td>2018</td><td>2</td><td>BAIXADA</td><td>NULL</td><td>MATRIZ</td><td>RUA ANTONIO ADAIL...</td><td>{NULL, NULL}</td></tr>\n",
       "<tr><td>19551329</td><td>0001</td><td>79</td><td>1</td><td>ELIANA LILIA</td><td>8</td><td>2015-03-24</td><td>NULL</td><td>2014-01-20</td><td>NULL</td><td>PRACA</td><td>JOAO PAULO</td><td>1740</td><td>CASA</td><td>BARROS FILHO</td><td>21512250</td><td>RJ</td><td>21</td><td>32524652</td><td>NULL</td><td>NULL</td><td>NULL</td><td>NULL</td><td>elianalilia@gmail...</td><td>NULL</td><td>NULL</td><td>EXTINCAO POR ENCE...</td><td>Com&eacute;rcio varejist...</td><td>RIO DE JANEIRO</td><td>NULL</td><td>GMAIL</td><td>2014</td><td>1</td><td>2015</td><td>3</td><td>BAIXADA</td><td>elianalilia@gmail...</td><td>MATRIZ</td><td>PRACA JOAO PAULO,...</td><td>{NULL, NULL}</td></tr>\n",
       "<tr><td>19551342</td><td>0001</td><td>28</td><td>1</td><td>BORRACHARIA DO AS...</td><td>8</td><td>2018-04-25</td><td>NULL</td><td>2014-01-20</td><td>4530705</td><td>AVENIDA</td><td>BRASIL</td><td>992</td><td>NULL</td><td>SANTA EUGENIA</td><td>35590000</td><td>MG</td><td>37</td><td>91403555</td><td>NULL</td><td>NULL</td><td>NULL</td><td>NULL</td><td>brasital10@gmail.com</td><td>NULL</td><td>NULL</td><td>EXTINCAO POR ENCE...</td><td>Servi&ccedil;os de borra...</td><td>LAGOA DA PRATA</td><td>NULL</td><td>GMAIL</td><td>2014</td><td>1</td><td>2018</td><td>4</td><td>BAIXADA</td><td>brasital10@gmail.com</td><td>MATRIZ</td><td>AVENIDA BRASIL, 9...</td><td>{-20.023216, -45....</td></tr>\n",
       "</table>\n",
       "only showing top 10 rows\n"
      ],
      "text/plain": [
       "+-----------+----------+-------+-------------+--------------------+-------------+----------------+--------------------+-------------------+--------------------+----------------+--------------------+------+--------------------+--------------------+--------+---+----+--------+----+----+-------+----+--------------------+------------+---------------+--------------------+--------------------+--------------------+-------+--------+------------+------------+-----------------+-----------------+----------------+--------------------+----------------+--------------------+--------------------+\n",
       "|CNPJ_BASICO|CNPJ_ORDEM|CNPJ_DV|MATRIZ_FILIAL|       NOME_FANTASIA|SIT_CADASTRAL|DT_SIT_CADASTRAL|NOME_CIDADE_EXTERIOR|DT_INICIO_ATIVIDADE|              CNAE_2|TIPO_LOUGRADOURO|          LOGRADOURO|NUMERO|         COMPLEMENTO|              BAIRRO|     CEP| UF|DDD1|    TEL1|DDD2|TEL2|DDD_FAX| FAX|               EMAIL|SIT_ESPECIAL|DT_SIT_ESPECIAL|           NM_MOTIVO|                CNAE|           MUNICIPIO|NM_PAIS|PROVEDOR|ano_cadastro|mes_cadastro|ano_sit_cadastral|mes_sit_cadastral|NM_SIT_CADASTRAL|        VALILD_EMAIL|NM_MATRIZ_FILIAL|   ENDERECO_COMPLETO|         COORDENADAS|\n",
       "+-----------+----------+-------+-------------+--------------------+-------------+----------------+--------------------+-------------------+--------------------+----------------+--------------------+------+--------------------+--------------------+--------+---+----+--------+----+----+-------+----+--------------------+------------+---------------+--------------------+--------------------+--------------------+-------+--------+------------+------------+-----------------+-----------------+----------------+--------------------+----------------+--------------------+--------------------+\n",
       "|   19551234|      0001|     55|            1|                NULL|            8|      2014-04-24|                NULL|         2014-01-20|                NULL|             RUA|         PRINCIPAL 2|    10|                NULL|        PEDRO ROSENO|69917650| AC|  68|99819198|NULL|NULL|   NULL|NULL|                NULL|        NULL|           NULL|EXTINCAO POR ENCE...|Atividades de est...|          RIO BRANCO|   NULL|    NULL|        2014|           1|             2014|                4|         BAIXADA|                NULL|          MATRIZ|RUA PRINCIPAL 2, ...|{-9.979038, -67.8...|\n",
       "|   19551248|      0001|     79|            1| L NUNES MANUTENCOES|            8|      2018-02-01|                NULL|         2014-01-20|4322301,4321500,4...|             RUA|PROFESSORA MYRIAM...|    78|                NULL|JARDIM RESIDENCIA...|12422490| SP|  12|35276011|NULL|NULL|   NULL|NULL|                NULL|        NULL|           NULL|  REGISTRO CANCELADO|Serviços de pintu...|     PINDAMONHANGABA|   NULL|    NULL|        2014|           1|             2018|                2|         BAIXADA|                NULL|          MATRIZ|RUA PROFESSORA MY...|{-22.939669, -45....|\n",
       "|   19551261|      0001|     28|            1|           TATY BABY|            8|      2016-03-03|                NULL|         2014-01-20|4755503,4755502,4...|         AVENIDA|        JOAO RIBEIRO|  NULL|                NULL|DISTRITO CASA DE ...|68565973| PA|  94|33191373|NULL|NULL|   NULL|NULL|sandra-amaral2010...|        NULL|           NULL|EXTINCAO POR ENCE...|Comércio varejist...|SANTA MARIA DAS B...|   NULL| HOTMAIL|        2014|           1|             2016|                3|         BAIXADA|sandra-amaral2010...|          MATRIZ|AVENIDA JOAO RIBE...|{-8.779131, -50.4...|\n",
       "|   17239220|      0001|     75|            1|                NULL|            4|      2021-04-09|                NULL|         2012-11-30|2599301,4213800,4...|             RUA|CAPITAO MANUEL DE...|   217|                NULL|            CORDEIRO|50640230| PE|  81|32270376|NULL|NULL|   NULL|NULL|atlanticoscontabi...|        NULL|           NULL|OMISSAO DE DECLAR...|Construção de edi...|              RECIFE|   NULL|   GMAIL|        2012|          11|             2021|                4|          INAPTA|atlanticoscontabi...|          MATRIZ|RUA CAPITAO MANUE...|{-8.059178, -34.9...|\n",
       "|   19551285|      0001|     87|            1|ABREU DESIGNER DECOR|            2|      2014-01-20|                NULL|         2014-01-20|             8230001|         AVENIDA|      BELO HORIZONTE|  2761|QUADRA 099/A;LOTE...| CIDADE PRIMAVERA II|78850000| MT|  66|96563658|NULL|NULL|   NULL|NULL| dayron.sa@gmail.com|        NULL|           NULL|          SEM MOTIVO|Comércio varejist...|  PRIMAVERA DO LESTE|   NULL|   GMAIL|        2014|           1|             2014|                1|           ATIVA| dayron.sa@gmail.com|          MATRIZ|AVENIDA BELO HORI...|{-15.536981, -54....|\n",
       "|   19551295|      0001|     12|            1|LEILANE BRITO DES...|            8|      2014-04-10|                NULL|         2014-01-20|                NULL|             RUA|CAPITAO AFRODIZIO...|   367|                NULL|              CENTRO|63475000| CE|  88|35221576|NULL|NULL|   NULL|NULL|leila.ni.m@hotmai...|        NULL|           NULL|EXTINCAO POR ENCE...|Comércio varejist...|           JAGUARIBE|   NULL| HOTMAIL|        2014|           1|             2014|                4|         BAIXADA|leila.ni.m@hotmai...|          MATRIZ|RUA CAPITAO AFROD...|{-5.8932853, -38....|\n",
       "|   19551306|      0001|     64|            1|                NULL|            2|      2014-01-20|                NULL|         2014-01-20|                NULL|             RUA|        MANOEL PAULO|   149|                NULL|      LOMANTO JUNIOR|45601150| BA|  73|88174188|NULL|NULL|   NULL|NULL|                NULL|        NULL|           NULL|          SEM MOTIVO|Serviços de pintu...|             ITABUNA|   NULL|    NULL|        2014|           1|             2014|                1|           ATIVA|                NULL|          MATRIZ|RUA MANOEL PAULO,...|        {NULL, NULL}|\n",
       "|   19551319|      0001|     33|            1|                NULL|            8|      2018-02-01|                NULL|         2014-01-20|                NULL|             RUA|ANTONIO ADAIL DA ...|   206|                NULL|           TRIANGULO|63041040| CE|  88|88676903|NULL|NULL|   NULL|NULL|                NULL|        NULL|           NULL|  REGISTRO CANCELADO|  Obras de alvenaria|   JUAZEIRO DO NORTE|   NULL|    NULL|        2014|           1|             2018|                2|         BAIXADA|                NULL|          MATRIZ|RUA ANTONIO ADAIL...|        {NULL, NULL}|\n",
       "|   19551329|      0001|     79|            1|        ELIANA LILIA|            8|      2015-03-24|                NULL|         2014-01-20|                NULL|           PRACA|          JOAO PAULO|  1740|                CASA|        BARROS FILHO|21512250| RJ|  21|32524652|NULL|NULL|   NULL|NULL|elianalilia@gmail...|        NULL|           NULL|EXTINCAO POR ENCE...|Comércio varejist...|      RIO DE JANEIRO|   NULL|   GMAIL|        2014|           1|             2015|                3|         BAIXADA|elianalilia@gmail...|          MATRIZ|PRACA JOAO PAULO,...|        {NULL, NULL}|\n",
       "|   19551342|      0001|     28|            1|BORRACHARIA DO AS...|            8|      2018-04-25|                NULL|         2014-01-20|             4530705|         AVENIDA|              BRASIL|   992|                NULL|       SANTA EUGENIA|35590000| MG|  37|91403555|NULL|NULL|   NULL|NULL|brasital10@gmail.com|        NULL|           NULL|EXTINCAO POR ENCE...|Serviços de borra...|      LAGOA DA PRATA|   NULL|   GMAIL|        2014|           1|             2018|                4|         BAIXADA|brasital10@gmail.com|          MATRIZ|AVENIDA BRASIL, 9...|{-20.023216, -45....|\n",
       "+-----------+----------+-------+-------------+--------------------+-------------+----------------+--------------------+-------------------+--------------------+----------------+--------------------+------+--------------------+--------------------+--------+---+----+--------+----+----+-------+----+--------------------+------------+---------------+--------------------+--------------------+--------------------+-------+--------+------------+------------+-----------------+-----------------+----------------+--------------------+----------------+--------------------+--------------------+\n",
       "only showing top 10 rows"
      ]
     },
     "execution_count": 8,
     "metadata": {},
     "output_type": "execute_result"
    }
   ],
   "source": [
    "df_estabelecimentos"
   ]
  },
  {
   "cell_type": "markdown",
   "id": "37e6d996-f7ff-4d45-b2df-d258055958e6",
   "metadata": {},
   "source": [
    "## Simples"
   ]
  },
  {
   "cell_type": "code",
   "execution_count": null,
   "id": "f276a881-b8c8-4007-a0e6-836f939d6391",
   "metadata": {},
   "outputs": [],
   "source": [
    "df = receitaLT_processor.read_data(schema_name='simples').cache()\n",
    "df_simples = receitaLT_processor.process_mei(df)"
   ]
  },
  {
   "cell_type": "code",
   "execution_count": 10,
   "id": "16cb9078-20d6-49db-8ec8-ed77a62fc421",
   "metadata": {
    "tags": []
   },
   "outputs": [
    {
     "data": {
      "text/html": [
       "<table border='1'>\n",
       "<tr><th>CNPJ</th><th>NOME_EMPRESA</th><th>CAP_SOCIAL</th><th>NM_PORTE</th><th>NAT_JURICA</th><th>ENTE_FEDERATIVO</th><th>NM_QUALIFICACAO</th><th>CPF_CRIPTOGRAFADO</th><th>CPF_LEN</th><th>PROBABILIDADE_DE_SER_CPF</th><th>PRIMEIRO_NOME</th><th>GRUPO_NOME</th><th>PROBABILIDADE_CLASSIFICACAO</th><th>CLASSIFICACAO</th></tr>\n",
       "<tr><td>46491426</td><td>SERGIO LUIZ BISPO...</td><td>3500,00</td><td>MICRO EMPRESA</td><td>Empres&aacute;rio (Indiv...</td><td>NULL</td><td>Empres&aacute;rio</td><td>++6B3MoERWw3ye37D...</td><td>11</td><td>SIM</td><td>SERGIO</td><td>SERGIO</td><td>1.0</td><td>M</td></tr>\n",
       "<tr><td>43691557</td><td>ERICK VINICIUS BR...</td><td>5000,00</td><td>MICRO EMPRESA</td><td>Empres&aacute;rio (Indiv...</td><td>NULL</td><td>Empres&aacute;rio</td><td>++6Gfo0SgJhlY0e/V...</td><td>11</td><td>SIM</td><td>ERICK</td><td>ERICK</td><td>1.0</td><td>M</td></tr>\n",
       "<tr><td>12315218</td><td>MARIANE PONTES DA...</td><td>1,00</td><td>MICRO EMPRESA</td><td>Empres&aacute;rio (Indiv...</td><td>NULL</td><td>Empres&aacute;rio</td><td>++9om51gTFu0cOLO2...</td><td>11</td><td>SIM</td><td>MARIANE</td><td>MARIANE</td><td>1.0</td><td>F</td></tr>\n",
       "<tr><td>27304967</td><td>FELIPE TRAJANO DE...</td><td>2000,00</td><td>MICRO EMPRESA</td><td>Empres&aacute;rio (Indiv...</td><td>NULL</td><td>Empres&aacute;rio</td><td>++AZq9oGL8+HAFOls...</td><td>11</td><td>SIM</td><td>FELIPE</td><td>FELIPE</td><td>1.0</td><td>M</td></tr>\n",
       "<tr><td>25280592</td><td>ANDERSON FERRAZ D...</td><td>2000,00</td><td>MICRO EMPRESA</td><td>Empres&aacute;rio (Indiv...</td><td>NULL</td><td>Empres&aacute;rio</td><td>++DLorKs0viF97bG4...</td><td>11</td><td>SIM</td><td>ANDERSON</td><td>ANDERSON</td><td>0.9925793596262196</td><td>M</td></tr>\n",
       "<tr><td>14433503</td><td>LUCIONE APARECIDA...</td><td>1,00</td><td>MICRO EMPRESA</td><td>Empres&aacute;rio (Indiv...</td><td>NULL</td><td>Empres&aacute;rio</td><td>++IirqpFsJyouN6CY...</td><td>11</td><td>SIM</td><td>LUCIONE</td><td>LUCIONE</td><td>0.6943620178041543</td><td>F</td></tr>\n",
       "<tr><td>33210206</td><td>FERNANDO DENEZ MO...</td><td>5000,00</td><td>MICRO EMPRESA</td><td>Empres&aacute;rio (Indiv...</td><td>NULL</td><td>Empres&aacute;rio</td><td>++Js4C5deZl7nWTHX...</td><td>11</td><td>SIM</td><td>FERNANDO</td><td>FERNANDO</td><td>1.0</td><td>M</td></tr>\n",
       "<tr><td>30214848</td><td>LETICIA APARECIDA...</td><td>10000,00</td><td>MICRO EMPRESA</td><td>Empres&aacute;rio (Indiv...</td><td>NULL</td><td>Empres&aacute;rio</td><td>++LffTg9fVwz4eZgM...</td><td>11</td><td>SIM</td><td>LETICIA</td><td>LETICIA</td><td>1.0</td><td>F</td></tr>\n",
       "<tr><td>28713292</td><td>FERNANDO MACHADO ...</td><td>1000,00</td><td>MICRO EMPRESA</td><td>Empres&aacute;rio (Indiv...</td><td>NULL</td><td>Empres&aacute;rio</td><td>++Nr/102PI7Y8dYtk...</td><td>11</td><td>SIM</td><td>FERNANDO</td><td>FERNANDO</td><td>1.0</td><td>M</td></tr>\n",
       "<tr><td>40859832</td><td>RICARDO ALESSANDR...</td><td>1000,00</td><td>MICRO EMPRESA</td><td>Empres&aacute;rio (Indiv...</td><td>NULL</td><td>Empres&aacute;rio</td><td>++SFK9kkxkiyNT4w4...</td><td>11</td><td>SIM</td><td>RICARDO</td><td>RICARDO</td><td>1.0</td><td>M</td></tr>\n",
       "</table>\n",
       "only showing top 10 rows\n"
      ],
      "text/plain": [
       "+--------+--------------------+----------+-------------+--------------------+---------------+---------------+--------------------+-------+------------------------+-------------+----------+---------------------------+-------------+\n",
       "|    CNPJ|        NOME_EMPRESA|CAP_SOCIAL|     NM_PORTE|          NAT_JURICA|ENTE_FEDERATIVO|NM_QUALIFICACAO|   CPF_CRIPTOGRAFADO|CPF_LEN|PROBABILIDADE_DE_SER_CPF|PRIMEIRO_NOME|GRUPO_NOME|PROBABILIDADE_CLASSIFICACAO|CLASSIFICACAO|\n",
       "+--------+--------------------+----------+-------------+--------------------+---------------+---------------+--------------------+-------+------------------------+-------------+----------+---------------------------+-------------+\n",
       "|46491426|SERGIO LUIZ BISPO...|   3500,00|MICRO EMPRESA|Empresário (Indiv...|           NULL|     Empresário|++6B3MoERWw3ye37D...|     11|                     SIM|       SERGIO|    SERGIO|                        1.0|            M|\n",
       "|43691557|ERICK VINICIUS BR...|   5000,00|MICRO EMPRESA|Empresário (Indiv...|           NULL|     Empresário|++6Gfo0SgJhlY0e/V...|     11|                     SIM|        ERICK|     ERICK|                        1.0|            M|\n",
       "|12315218|MARIANE PONTES DA...|      1,00|MICRO EMPRESA|Empresário (Indiv...|           NULL|     Empresário|++9om51gTFu0cOLO2...|     11|                     SIM|      MARIANE|   MARIANE|                        1.0|            F|\n",
       "|27304967|FELIPE TRAJANO DE...|   2000,00|MICRO EMPRESA|Empresário (Indiv...|           NULL|     Empresário|++AZq9oGL8+HAFOls...|     11|                     SIM|       FELIPE|    FELIPE|                        1.0|            M|\n",
       "|25280592|ANDERSON FERRAZ D...|   2000,00|MICRO EMPRESA|Empresário (Indiv...|           NULL|     Empresário|++DLorKs0viF97bG4...|     11|                     SIM|     ANDERSON|  ANDERSON|         0.9925793596262196|            M|\n",
       "|14433503|LUCIONE APARECIDA...|      1,00|MICRO EMPRESA|Empresário (Indiv...|           NULL|     Empresário|++IirqpFsJyouN6CY...|     11|                     SIM|      LUCIONE|   LUCIONE|         0.6943620178041543|            F|\n",
       "|33210206|FERNANDO DENEZ MO...|   5000,00|MICRO EMPRESA|Empresário (Indiv...|           NULL|     Empresário|++Js4C5deZl7nWTHX...|     11|                     SIM|     FERNANDO|  FERNANDO|                        1.0|            M|\n",
       "|30214848|LETICIA APARECIDA...|  10000,00|MICRO EMPRESA|Empresário (Indiv...|           NULL|     Empresário|++LffTg9fVwz4eZgM...|     11|                     SIM|      LETICIA|   LETICIA|                        1.0|            F|\n",
       "|28713292|FERNANDO MACHADO ...|   1000,00|MICRO EMPRESA|Empresário (Indiv...|           NULL|     Empresário|++Nr/102PI7Y8dYtk...|     11|                     SIM|     FERNANDO|  FERNANDO|                        1.0|            M|\n",
       "|40859832|RICARDO ALESSANDR...|   1000,00|MICRO EMPRESA|Empresário (Indiv...|           NULL|     Empresário|++SFK9kkxkiyNT4w4...|     11|                     SIM|      RICARDO|   RICARDO|                        1.0|            M|\n",
       "+--------+--------------------+----------+-------------+--------------------+---------------+---------------+--------------------+-------+------------------------+-------------+----------+---------------------------+-------------+\n",
       "only showing top 10 rows"
      ]
     },
     "execution_count": 10,
     "metadata": {},
     "output_type": "execute_result"
    }
   ],
   "source": [
    "df_simples"
   ]
  }
 ],
 "metadata": {
  "kernelspec": {
   "display_name": "Python 3 (ipykernel)",
   "language": "python",
   "name": "python3"
  },
  "language_info": {
   "codemirror_mode": {
    "name": "ipython",
    "version": 3
   },
   "file_extension": ".py",
   "mimetype": "text/x-python",
   "name": "python",
   "nbconvert_exporter": "python",
   "pygments_lexer": "ipython3",
   "version": "3.10.4"
  }
 },
 "nbformat": 4,
 "nbformat_minor": 5
}
